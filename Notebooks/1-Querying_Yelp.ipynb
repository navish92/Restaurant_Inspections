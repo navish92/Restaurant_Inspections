{
 "cells": [
  {
   "cell_type": "code",
   "execution_count": 289,
   "metadata": {},
   "outputs": [],
   "source": [
    "import pandas as pd\n",
    "import numpy as np\n",
    "import seaborn as sns\n",
    "import matplotlib.pyplot as plt\n",
    "from sys import getsizeof\n",
    "import json\n",
    "from sqlalchemy import create_engine\n",
    "import datetime as dt\n",
    "from yelpapi import YelpAPI\n",
    "pd.options.mode.chained_assignment = None\n",
    "pd.set_option('display.max_columns', 0)\n",
    "\n",
    "%matplotlib inline"
   ]
  },
  {
   "cell_type": "code",
   "execution_count": 323,
   "metadata": {},
   "outputs": [],
   "source": [
    "api_key = ''\n",
    "yelp_api = YelpAPI(api_key)"
   ]
  },
  {
   "cell_type": "code",
   "execution_count": 336,
   "metadata": {},
   "outputs": [
    {
     "data": {
      "text/plain": [
       "businessname     4075\n",
       "dbaname            34\n",
       "legalowner       1772\n",
       "namelast         3653\n",
       "namefirst        1879\n",
       "licenseno        4665\n",
       "issdttm          4641\n",
       "expdttm            10\n",
       "licstatus           2\n",
       "licensecat          4\n",
       "descript            4\n",
       "result             12\n",
       "resultdttm      39184\n",
       "violation         410\n",
       "viollevel           4\n",
       "violdesc          403\n",
       "violdttm        39189\n",
       "violstatus          2\n",
       "statusdate      12174\n",
       "comments        96411\n",
       "address          3275\n",
       "city               46\n",
       "state               4\n",
       "zip                36\n",
       "property_id      2886\n",
       "location         2377\n",
       "Latitude         2264\n",
       "Longitude        2282\n",
       "dtype: int64"
      ]
     },
     "execution_count": 336,
     "metadata": {},
     "output_type": "execute_result"
    }
   ],
   "source": [
    "pd_ins_hist_2016 = pd.read_csv(\"../Data/Inspections_Slightly_Cleaned_2016.csv\",low_memory=False,parse_dates=[12,16])\n",
    "pd_ins_hist_2016.nunique()"
   ]
  },
  {
   "cell_type": "code",
   "execution_count": 352,
   "metadata": {},
   "outputs": [],
   "source": [
    "pd_ins_hist_2016.sort_values(by='violdttm',ignore_index=True,ascending=False,inplace=True)\n",
    "# pd_ins_hist_2016.groupby(['result','violstatus'])[['violstatus']].count()"
   ]
  },
  {
   "cell_type": "code",
   "execution_count": 357,
   "metadata": {},
   "outputs": [
    {
     "data": {
      "text/html": [
       "<div>\n",
       "<style scoped>\n",
       "    .dataframe tbody tr th:only-of-type {\n",
       "        vertical-align: middle;\n",
       "    }\n",
       "\n",
       "    .dataframe tbody tr th {\n",
       "        vertical-align: top;\n",
       "    }\n",
       "\n",
       "    .dataframe thead th {\n",
       "        text-align: right;\n",
       "    }\n",
       "</style>\n",
       "<table border=\"1\" class=\"dataframe\">\n",
       "  <thead>\n",
       "    <tr style=\"text-align: right;\">\n",
       "      <th></th>\n",
       "      <th>businessname</th>\n",
       "      <th>dbaname</th>\n",
       "      <th>legalowner</th>\n",
       "      <th>namelast</th>\n",
       "      <th>namefirst</th>\n",
       "      <th>licenseno</th>\n",
       "      <th>issdttm</th>\n",
       "      <th>expdttm</th>\n",
       "      <th>licstatus</th>\n",
       "      <th>licensecat</th>\n",
       "      <th>descript</th>\n",
       "      <th>result</th>\n",
       "      <th>resultdttm</th>\n",
       "      <th>violation</th>\n",
       "      <th>viollevel</th>\n",
       "      <th>violdesc</th>\n",
       "      <th>violdttm</th>\n",
       "      <th>violstatus</th>\n",
       "      <th>statusdate</th>\n",
       "      <th>comments</th>\n",
       "      <th>address</th>\n",
       "      <th>city</th>\n",
       "      <th>state</th>\n",
       "      <th>zip</th>\n",
       "      <th>property_id</th>\n",
       "      <th>location</th>\n",
       "      <th>Latitude</th>\n",
       "      <th>Longitude</th>\n",
       "    </tr>\n",
       "  </thead>\n",
       "  <tbody>\n",
       "    <tr>\n",
       "      <th>144274</th>\n",
       "      <td>100 Percent Delicia Food</td>\n",
       "      <td>NaN</td>\n",
       "      <td>BRENNAN PATRICK E</td>\n",
       "      <td>Marte</td>\n",
       "      <td>Civelis</td>\n",
       "      <td>87059</td>\n",
       "      <td>2013-04-05 12:47:23</td>\n",
       "      <td>2020-12-31 23:59:00</td>\n",
       "      <td>Active</td>\n",
       "      <td>FS</td>\n",
       "      <td>Eating &amp; Drinking</td>\n",
       "      <td>HE_Fail</td>\n",
       "      <td>2017-04-25 11:57:59</td>\n",
       "      <td>M-2-102.11</td>\n",
       "      <td>***</td>\n",
       "      <td>PIC Knowledge</td>\n",
       "      <td>2017-04-25 11:57:59</td>\n",
       "      <td>Fail</td>\n",
       "      <td>NaN</td>\n",
       "      <td>PIC will need to review with all staff proper ...</td>\n",
       "      <td>635   Hyde Park AVE</td>\n",
       "      <td>Roslindale</td>\n",
       "      <td>MA</td>\n",
       "      <td>02131</td>\n",
       "      <td>77476.0</td>\n",
       "      <td>(42.278590000, -71.119440000)</td>\n",
       "      <td>42.278590000</td>\n",
       "      <td>-71.119440000</td>\n",
       "    </tr>\n",
       "    <tr>\n",
       "      <th>8510</th>\n",
       "      <td>Bay Sweets</td>\n",
       "      <td>NaN</td>\n",
       "      <td>SPRING ST PROPERTIES LLC</td>\n",
       "      <td>Bay Sweets LLC</td>\n",
       "      <td>Victor Leon  Owner</td>\n",
       "      <td>353052</td>\n",
       "      <td>2018-01-30 15:07:12</td>\n",
       "      <td>2020-12-31 23:59:00</td>\n",
       "      <td>Active</td>\n",
       "      <td>RF</td>\n",
       "      <td>Retail Food</td>\n",
       "      <td>HE_Filed</td>\n",
       "      <td>2020-07-31 15:01:33</td>\n",
       "      <td>590.005/5-205.15-C</td>\n",
       "      <td>*</td>\n",
       "      <td>System Maintained in Good Repair (C)</td>\n",
       "      <td>2020-07-31 15:01:33</td>\n",
       "      <td>Pass</td>\n",
       "      <td>2020-07-31 18:44:46</td>\n",
       "      <td>3 bay sink/provide 3 drain plugs to each sink ...</td>\n",
       "      <td>120   Spring ST</td>\n",
       "      <td>West Roxbury</td>\n",
       "      <td>MA</td>\n",
       "      <td>02132</td>\n",
       "      <td>129536.0</td>\n",
       "      <td>(42.276500000, -71.165400000)</td>\n",
       "      <td>42.276500000</td>\n",
       "      <td>-71.165400000</td>\n",
       "    </tr>\n",
       "    <tr>\n",
       "      <th>19120</th>\n",
       "      <td>SUPER STOP &amp; SHOP No. 459</td>\n",
       "      <td>NaN</td>\n",
       "      <td>SUPER STOP &amp; SHOP    ATTN</td>\n",
       "      <td>SUPER STOP &amp; SHOP</td>\n",
       "      <td>Attn: Licensing Dept.</td>\n",
       "      <td>21934</td>\n",
       "      <td>2012-02-06 13:03:47</td>\n",
       "      <td>2020-12-31 23:59:00</td>\n",
       "      <td>Active</td>\n",
       "      <td>RF</td>\n",
       "      <td>Retail Food</td>\n",
       "      <td>HE_Pass</td>\n",
       "      <td>2020-02-03 10:25:42</td>\n",
       "      <td>590.004/4-302.13-PF</td>\n",
       "      <td>**</td>\n",
       "      <td>Temperature Measuring Devices  Manual and Mech...</td>\n",
       "      <td>2020-02-03 10:25:42</td>\n",
       "      <td>Pass</td>\n",
       "      <td>2020-02-03 15:43:55</td>\n",
       "      <td>No irreversible thermometer for Hi-Temp dishwa...</td>\n",
       "      <td>460   BLUE HILL  AV</td>\n",
       "      <td>ROXBURY</td>\n",
       "      <td>MA</td>\n",
       "      <td>02121</td>\n",
       "      <td>NaN</td>\n",
       "      <td>NaN</td>\n",
       "      <td>NaN</td>\n",
       "      <td>NaN</td>\n",
       "    </tr>\n",
       "    <tr>\n",
       "      <th>150145</th>\n",
       "      <td>Black Rose</td>\n",
       "      <td>NaN</td>\n",
       "      <td>ONE 60 STATE ASSOC MASS LPS</td>\n",
       "      <td>The Black Rose Inc.</td>\n",
       "      <td></td>\n",
       "      <td>18686</td>\n",
       "      <td>2011-12-29 14:14:49</td>\n",
       "      <td>2020-12-31 23:59:00</td>\n",
       "      <td>Active</td>\n",
       "      <td>FS</td>\n",
       "      <td>Eating &amp; Drinking</td>\n",
       "      <td>HE_FailExt</td>\n",
       "      <td>2017-03-06 11:02:41</td>\n",
       "      <td>16-4-501.11/.15</td>\n",
       "      <td>*</td>\n",
       "      <td>Dishwashng Facilities</td>\n",
       "      <td>2017-03-06 11:02:41</td>\n",
       "      <td>Pass</td>\n",
       "      <td>2017-03-06 12:55:23</td>\n",
       "      <td>Kitchen low temperature dishwasher not registe...</td>\n",
       "      <td>160   State ST</td>\n",
       "      <td>Boston</td>\n",
       "      <td>MA</td>\n",
       "      <td>02109</td>\n",
       "      <td>130383.0</td>\n",
       "      <td>(42.359440000, -71.053790000)</td>\n",
       "      <td>42.359440000</td>\n",
       "      <td>-71.053790000</td>\n",
       "    </tr>\n",
       "    <tr>\n",
       "      <th>142152</th>\n",
       "      <td>THE BASEBALL TAVERN</td>\n",
       "      <td>NaN</td>\n",
       "      <td>NaN</td>\n",
       "      <td>JAMES ROONEY</td>\n",
       "      <td></td>\n",
       "      <td>24495</td>\n",
       "      <td>2012-01-04 18:55:55</td>\n",
       "      <td>2019-12-31 23:59:00</td>\n",
       "      <td>Inactive</td>\n",
       "      <td>FS</td>\n",
       "      <td>Eating &amp; Drinking</td>\n",
       "      <td>HE_Fail</td>\n",
       "      <td>2017-05-10 10:33:49</td>\n",
       "      <td>25-4-904.11</td>\n",
       "      <td>*</td>\n",
       "      <td>Single Service Articles Stored Dispensed</td>\n",
       "      <td>2017-05-10 10:33:49</td>\n",
       "      <td>Fail</td>\n",
       "      <td>NaN</td>\n",
       "      <td>Bar areas: Straws are not individually wrapped...</td>\n",
       "      <td>1270   BOYLSTON</td>\n",
       "      <td>BOSTON</td>\n",
       "      <td>MA</td>\n",
       "      <td>02215</td>\n",
       "      <td>NaN</td>\n",
       "      <td>NaN</td>\n",
       "      <td>NaN</td>\n",
       "      <td>NaN</td>\n",
       "    </tr>\n",
       "  </tbody>\n",
       "</table>\n",
       "</div>"
      ],
      "text/plain": [
       "                     businessname dbaname  ...      Latitude      Longitude\n",
       "144274   100 Percent Delicia Food     NaN  ...  42.278590000  -71.119440000\n",
       "8510                   Bay Sweets     NaN  ...  42.276500000  -71.165400000\n",
       "19120   SUPER STOP & SHOP No. 459     NaN  ...           NaN            NaN\n",
       "150145                 Black Rose     NaN  ...  42.359440000  -71.053790000\n",
       "142152        THE BASEBALL TAVERN     NaN  ...           NaN            NaN\n",
       "\n",
       "[5 rows x 28 columns]"
      ]
     },
     "execution_count": 357,
     "metadata": {},
     "output_type": "execute_result"
    }
   ],
   "source": [
    "pd_ins_hist_2016.sample(5)"
   ]
  },
  {
   "cell_type": "code",
   "execution_count": 244,
   "metadata": {},
   "outputs": [],
   "source": [
    "#Getting just one row of per restaurant & their respective details\n",
    "\n",
    "df_restaurants = pd_ins_hist_2016.drop_duplicates(['businessname','licenseno'],ignore_index=True)"
   ]
  },
  {
   "cell_type": "code",
   "execution_count": 245,
   "metadata": {},
   "outputs": [
    {
     "data": {
      "text/plain": [
       "FS     2051\n",
       "FT     1633\n",
       "RF      838\n",
       "MFW     143\n",
       "Name: licensecat, dtype: int64"
      ]
     },
     "execution_count": 245,
     "metadata": {},
     "output_type": "execute_result"
    }
   ],
   "source": [
    "df_restaurants.licensecat.value_counts()"
   ]
  },
  {
   "cell_type": "code",
   "execution_count": 246,
   "metadata": {},
   "outputs": [
    {
     "data": {
      "text/plain": [
       "licensecat\n",
       "FS     1\n",
       "FT     1\n",
       "MFW    1\n",
       "RF     1\n",
       "Name: descript, dtype: int64"
      ]
     },
     "execution_count": 246,
     "metadata": {},
     "output_type": "execute_result"
    }
   ],
   "source": [
    "df_restaurants.groupby('licensecat')['descript'].nunique()"
   ]
  },
  {
   "cell_type": "code",
   "execution_count": 247,
   "metadata": {},
   "outputs": [
    {
     "data": {
      "text/plain": [
       "Eating & Drinking                2051\n",
       "Eating & Drinking w/ Take Out    1633\n",
       "Retail Food                       838\n",
       "Mobile Food Walk On               143\n",
       "Name: descript, dtype: int64"
      ]
     },
     "execution_count": 247,
     "metadata": {},
     "output_type": "execute_result"
    }
   ],
   "source": [
    "df_restaurants.descript.value_counts()"
   ]
  },
  {
   "cell_type": "code",
   "execution_count": 299,
   "metadata": {},
   "outputs": [],
   "source": [
    "def retrieve_yelp_business_match(row):\n",
    "    \"\"\"\n",
    "    Function to retrieve information from Yelp for the F&B establishment, using Yelp's match endpoint.\n",
    "    The endpoint takes in the businessname & address and does an approxmiate match to find the estabishment.\n",
    "    \"\"\"\n",
    "    \n",
    "    response = yelp_api.business_match_query(name=row.businessname,\n",
    "                                             address1=row.address,\n",
    "                                             city=row.city,\n",
    "                                             state='MA',\n",
    "                                             country='US',\n",
    "                                             match_threshold=None\n",
    "                                            )\n",
    "    \n",
    "    if not response['businesses']:\n",
    "        return response\n",
    "    else:\n",
    "        if len(response['businesses']) == 1:\n",
    "            return response['businesses'][0]\n",
    "        \n",
    "        else:\n",
    "            \n",
    "            print(f\"Multiple entries for:\\n{row.businessname,row.address}\")\n",
    "            [print(i) for i in response['businesses']]\n",
    "            n = int(input(\"Enter row to consider. start number at 1\"))\n",
    "            return response['businesses'][n-1]\n",
    "        "
   ]
  },
  {
   "cell_type": "code",
   "execution_count": 291,
   "metadata": {},
   "outputs": [],
   "source": [
    "df_restaurants.loc[:,'yelp_id'] = np.nan\n",
    "df_restaurants.loc[:,'yelp_alias'] = np.nan\n",
    "df_restaurants.loc[:,'address1'] = np.nan\n",
    "df_restaurants.loc[:,'url'] = np.nan"
   ]
  },
  {
   "cell_type": "code",
   "execution_count": 1,
   "metadata": {
    "scrolled": true
   },
   "outputs": [],
   "source": [
    "# Loop to get yelp info for each restaurant\n",
    "\n",
    "for row_index,row_series in df_restaurants.loc[4429:].iterrows():\n",
    "    \n",
    "    try:\n",
    "        result = retrieve_yelp_business_match(row_series)\n",
    "    except Exception as err:\n",
    "        print(f\"Error Message: {err}\")\n",
    "        input()\n",
    "        \n",
    "    \n",
    "    print(result)\n",
    "    if result:\n",
    "        try:\n",
    "            print(result['id'])\n",
    "            df_restaurants.loc[row_index,'yelp_id'] = result['id']\n",
    "        except:\n",
    "            pass\n",
    "        try:\n",
    "            print(result['alias'])\n",
    "            df_restaurants.loc[row_index,'yelp_alias'] = result['alias']\n",
    "        except:\n",
    "            pass\n",
    "        try:\n",
    "            print(result['location']['address1'])\n",
    "            \n",
    "            df_restaurants.loc[row_index,'address1'] = result['location']['address1']\n",
    "        except:\n",
    "            pass\n",
    "    else:\n",
    "        nan_counter += 1\n",
    "    print(row_index,df_restaurants.iloc[row_index,[0,20,28,30]])\n",
    "    print(\"-------\")\n",
    "    \n",
    "    if row_index%25 == 0:\n",
    "        df_restaurants.to_csv(\"restaurant_info.csv\",index=False)\n",
    "        \n",
    "df_restaurants.to_csv(\"restaurant_info.csv\",index=False)"
   ]
  },
  {
   "cell_type": "code",
   "execution_count": 330,
   "metadata": {},
   "outputs": [],
   "source": [
    "df_restaurants.to_csv(\"../Data/restaurant_info.csv\",index=False)"
   ]
  },
  {
   "cell_type": "code",
   "execution_count": 392,
   "metadata": {},
   "outputs": [],
   "source": [
    "df_restaurants = pd.read_csv(\"../Data/restaurant_info.csv\")"
   ]
  },
  {
   "cell_type": "code",
   "execution_count": 394,
   "metadata": {},
   "outputs": [
    {
     "data": {
      "text/plain": [
       "1568"
      ]
     },
     "execution_count": 394,
     "metadata": {},
     "output_type": "execute_result"
    }
   ],
   "source": [
    "df_restaurants.yelp_id.isna().sum()"
   ]
  },
  {
   "cell_type": "code",
   "execution_count": 395,
   "metadata": {},
   "outputs": [],
   "source": [
    "#Dropping these values as Yelp info cannot be obtained on them\n",
    "\n",
    "df_restaurants_filtered = df_restaurants[~df_restaurants.yelp_id.isna()].reset_index()"
   ]
  },
  {
   "cell_type": "code",
   "execution_count": 398,
   "metadata": {},
   "outputs": [],
   "source": [
    "df_restaurants_filtered['url'] = np.nan\n",
    "df_restaurants_filtered['review_count'] = np.nan\n",
    "df_restaurants_filtered['rating'] = np.nan\n",
    "df_restaurants_filtered['price'] = np.nan\n",
    "df_restaurants_filtered['categories'] = np.nan"
   ]
  },
  {
   "cell_type": "code",
   "execution_count": 408,
   "metadata": {},
   "outputs": [],
   "source": [
    "def retrieve_yelp_business_details(row):\n",
    "    \"\"\"\n",
    "    Retrive business details from each business' page using yelp api's business ID endpoint\n",
    "    \"\"\"\n",
    "    print(\"before id querying\")\n",
    "    \n",
    "    response = yelp_api.business_query(id=row)\n",
    "    print(\"after id querying\")\n",
    "    return response\n",
    "        "
   ]
  },
  {
   "cell_type": "code",
   "execution_count": 2,
   "metadata": {
    "scrolled": true
   },
   "outputs": [],
   "source": [
    "for row_index,row_series in df_restaurants_filtered.iterrows():\n",
    "    \n",
    "    try:\n",
    "        result = retrieve_yelp_business_details(row_series.yelp_id)\n",
    "    except Exception as err:\n",
    "        print(f\"Error Message: {err}\")\n",
    "#         input()\n",
    "        \n",
    "    \n",
    "    print(result['id'])\n",
    "    print(result['url'])\n",
    "    print(result['alias'])\n",
    "    if result:\n",
    "        try:\n",
    "            print(result['url'])\n",
    "            df_restaurants_filtered.loc[row_index,'url'] = result['url']\n",
    "        except:\n",
    "            pass\n",
    "        try:\n",
    "            print(result['review_count'])\n",
    "            df_restaurants_filtered.loc[row_index,'review_count'] = result['review_count']\n",
    "        except:\n",
    "            pass\n",
    "        try:\n",
    "            print(result['rating'])\n",
    "            df_restaurants_filtered.loc[row_index,'rating'] = result['rating']\n",
    "        except:\n",
    "            pass\n",
    "        try:\n",
    "            print(result['price'])\n",
    "            df_restaurants_filtered.loc[row_index,'price'] = result['price']\n",
    "        except:\n",
    "            pass\n",
    "        try:\n",
    "            print(result['categories'])\n",
    "            df_restaurants_filtered.loc[row_index,'categories'] = result['categories']\n",
    "        except:\n",
    "            pass\n",
    "        \n",
    "    else:\n",
    "        nan_counter += 1\n",
    "    print(row_index,df_restaurants_filtered.iloc[row_index,[0,31,32,33]])\n",
    "    print(\"-------\")\n",
    "    \n",
    "    if row_index%25 == 0:\n",
    "        df_restaurants_filtered.to_csv(\"restaurant_info_filtered.csv\",index=False)\n",
    "        \n",
    "df_restaurants_filtered.to_csv(\"../Data/restaurant_info_filtered.csv\",index=False)"
   ]
  },
  {
   "cell_type": "code",
   "execution_count": 400,
   "metadata": {},
   "outputs": [],
   "source": [
    "df_restaurants_filtered.to_csv(\"../Data/restaurant_info_filtered.csv\",index=False)"
   ]
  },
  {
   "cell_type": "code",
   "execution_count": 415,
   "metadata": {},
   "outputs": [
    {
     "data": {
      "text/plain": [
       "(3097, 37)"
      ]
     },
     "execution_count": 415,
     "metadata": {},
     "output_type": "execute_result"
    }
   ],
   "source": [
    "df_restaurants_filtered.shape"
   ]
  }
 ],
 "metadata": {
  "kernelspec": {
   "display_name": "Python 3",
   "language": "python",
   "name": "python3"
  },
  "language_info": {
   "codemirror_mode": {
    "name": "ipython",
    "version": 3
   },
   "file_extension": ".py",
   "mimetype": "text/x-python",
   "name": "python",
   "nbconvert_exporter": "python",
   "pygments_lexer": "ipython3",
   "version": "3.8.5"
  }
 },
 "nbformat": 4,
 "nbformat_minor": 4
}
