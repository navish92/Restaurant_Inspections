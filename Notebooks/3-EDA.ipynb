{
 "cells": [
  {
   "cell_type": "code",
   "execution_count": 2,
   "metadata": {},
   "outputs": [],
   "source": [
    "import pandas as pd\n",
    "import numpy as np\n",
    "import seaborn as sns\n",
    "import matplotlib.pyplot as plt\n",
    "from sys import getsizeof\n",
    "import json\n",
    "from sqlalchemy import create_engine\n",
    "import datetime as dt\n",
    "import ast\n",
    "from sklearn.ensemble import RandomForestClassifier as RFC, GradientBoostingClassifier as GBC\n",
    "from sklearn.linear_model import LogisticRegression as LogReg\n",
    "from sklearn.neighbors import KNeighborsClassifier as KNC\n",
    "from sklearn.model_selection import train_test_split\n",
    "from sklearn.preprocessing import LabelEncoder, OneHotEncoder\n",
    "from sklearn.metrics import classification_report\n",
    "\n",
    "pd.options.mode.chained_assignment = None\n",
    "pd.set_option('display.max_columns', 0)\n",
    "\n",
    "%matplotlib inline"
   ]
  },
  {
   "cell_type": "code",
   "execution_count": 3,
   "metadata": {},
   "outputs": [],
   "source": [
    "df_rest_yelp_and_ins = pd.read_csv('../Data/Restaurants_cleaned_inspe_with_yelp.csv',index_col=0)\n",
    "\n",
    "df_rest_yelp_and_ins.drop(columns=df_rest_yelp_and_ins.iloc[:,0:18].columns.to_list()+['resultdttm','result'],inplace=True)\n"
   ]
  },
  {
   "cell_type": "code",
   "execution_count": 4,
   "metadata": {},
   "outputs": [],
   "source": [
    "features = ['historic_routine_ins_count', 'most_recent_previous_ins', 'passed_ins_ratio', 'failed_ins_ratio',]\n",
    "target = 'target'\n",
    "\n",
    "X = df_rest_yelp_and_ins[features]\n",
    "y = df_rest_yelp_and_ins[target]"
   ]
  },
  {
   "cell_type": "code",
   "execution_count": 5,
   "metadata": {},
   "outputs": [],
   "source": [
    "X_train_val, X_test, y_train_val, y_test = train_test_split(X,y,test_size=0.2,stratify=y)"
   ]
  },
  {
   "cell_type": "code",
   "execution_count": 6,
   "metadata": {},
   "outputs": [
    {
     "data": {
      "text/plain": [
       "0.0    0.771472\n",
       "1.0    0.228528\n",
       "Name: target, dtype: float64"
      ]
     },
     "execution_count": 6,
     "metadata": {},
     "output_type": "execute_result"
    }
   ],
   "source": [
    "#dummy model baseline\n",
    "y.value_counts()/len(y)"
   ]
  },
  {
   "cell_type": "code",
   "execution_count": 7,
   "metadata": {},
   "outputs": [],
   "source": [
    "def class_model(X, y, model, params = {}, cross_val = 1):\n",
    "    \n",
    "    if cross_val == 1: \n",
    "        X_train, X_test, y_train, y_test = train_test_split(X,y,test_size=0.2,stratify=y)\n",
    "        \n",
    "        pred_model = model(**params)\n",
    "        pred_model.fit(X_train,y_train)\n",
    "\n",
    "        y_train_pred = pred_model.predict(X_train)\n",
    "        y_test_pred = pred_model.predict(X_test)\n",
    "        print(f\"Printing scores for data trained on a {model()}.\")\n",
    "        print(f\"Test Score: {pred_model.score(X_test,y_test):,.2f}\")\n",
    "        print(f\"Train Score: {pred_model.score(X_train,y_train):,.2f}\")\n",
    "        \n",
    "        print(classification_report(y_test,y_test_pred))\n",
    "        print(\"-------\")\n",
    "        return pred_model"
   ]
  },
  {
   "cell_type": "markdown",
   "metadata": {},
   "source": [
    "#### Baseline Models, to compare against at the end"
   ]
  },
  {
   "cell_type": "code",
   "execution_count": 14,
   "metadata": {},
   "outputs": [
    {
     "name": "stdout",
     "output_type": "stream",
     "text": [
      "Printing scores for data trained on a RandomForestClassifier().\n",
      "Test Score: 0.66\n",
      "Train Score: 0.68\n",
      "              precision    recall  f1-score   support\n",
      "\n",
      "         0.0       0.80      0.73      0.77       322\n",
      "         1.0       0.31      0.41      0.35        96\n",
      "\n",
      "    accuracy                           0.66       418\n",
      "   macro avg       0.56      0.57      0.56       418\n",
      "weighted avg       0.69      0.66      0.67       418\n",
      "\n",
      "-------\n",
      "Printing scores for data trained on a LogisticRegression().\n",
      "Test Score: 0.77\n",
      "Train Score: 0.77\n",
      "              precision    recall  f1-score   support\n",
      "\n",
      "         0.0       0.77      1.00      0.87       322\n",
      "         1.0       0.00      0.00      0.00        96\n",
      "\n",
      "    accuracy                           0.77       418\n",
      "   macro avg       0.39      0.50      0.44       418\n",
      "weighted avg       0.59      0.77      0.67       418\n",
      "\n",
      "-------\n"
     ]
    },
    {
     "name": "stderr",
     "output_type": "stream",
     "text": [
      "C:\\Users\\Navish\\anaconda3\\lib\\site-packages\\sklearn\\metrics\\_classification.py:1221: UndefinedMetricWarning: Precision and F-score are ill-defined and being set to 0.0 in labels with no predicted samples. Use `zero_division` parameter to control this behavior.\n",
      "  _warn_prf(average, modifier, msg_start, len(result))\n"
     ]
    },
    {
     "name": "stdout",
     "output_type": "stream",
     "text": [
      "Printing scores for data trained on a KNeighborsClassifier().\n",
      "Test Score: 0.75\n",
      "Train Score: 0.77\n",
      "              precision    recall  f1-score   support\n",
      "\n",
      "         0.0       0.78      0.96      0.86       322\n",
      "         1.0       0.33      0.07      0.12        96\n",
      "\n",
      "    accuracy                           0.75       418\n",
      "   macro avg       0.55      0.51      0.49       418\n",
      "weighted avg       0.67      0.75      0.69       418\n",
      "\n",
      "-------\n",
      "Printing scores for data trained on a GradientBoostingClassifier().\n",
      "Test Score: 0.77\n",
      "Train Score: 0.78\n",
      "              precision    recall  f1-score   support\n",
      "\n",
      "         0.0       0.77      0.98      0.87       322\n",
      "         1.0       0.38      0.03      0.06        96\n",
      "\n",
      "    accuracy                           0.77       418\n",
      "   macro avg       0.57      0.51      0.46       418\n",
      "weighted avg       0.68      0.77      0.68       418\n",
      "\n",
      "-------\n"
     ]
    }
   ],
   "source": [
    "baseline_rfc = class_model(X_train_val,y_train_val,RFC,params = {'class_weight':'balanced'});\n",
    "baseline_logreg = class_model(X_train_val,y_train_val,LogReg)\n",
    "baseline_knn = class_model(X_train_val,y_train_val,KNC,params = {'n_neighbors':7})\n",
    "baseline_gbc = class_model(X_train_val,y_train_val,GBC)"
   ]
  },
  {
   "cell_type": "markdown",
   "metadata": {},
   "source": [
    "### EDA "
   ]
  },
  {
   "cell_type": "code",
   "execution_count": 16,
   "metadata": {},
   "outputs": [
    {
     "name": "stdout",
     "output_type": "stream",
     "text": [
      "<class 'pandas.core.frame.DataFrame'>\n",
      "Int64Index: 2608 entries, 87059 to 27260\n",
      "Data columns (total 34 columns):\n",
      " #   Column                        Non-Null Count  Dtype  \n",
      "---  ------                        --------------  -----  \n",
      " 0   yelp_id                       2608 non-null   object \n",
      " 1   yelp_alias                    2608 non-null   object \n",
      " 2   address1                      2607 non-null   object \n",
      " 3   url                           2608 non-null   object \n",
      " 4   review_count                  2608 non-null   float64\n",
      " 5   rating                        2608 non-null   float64\n",
      " 6   price                         2246 non-null   object \n",
      " 7   categories                    1026 non-null   object \n",
      " 8   businessname                  2608 non-null   object \n",
      " 9   dbaname                       17 non-null     object \n",
      " 10  legalowner                    1655 non-null   object \n",
      " 11  namelast                      2608 non-null   object \n",
      " 12  namefirst                     2608 non-null   object \n",
      " 13  issdttm                       2608 non-null   object \n",
      " 14  expdttm                       2608 non-null   object \n",
      " 15  licstatus                     2608 non-null   object \n",
      " 16  licensecat                    2608 non-null   object \n",
      " 17  descript                      2608 non-null   object \n",
      " 18  address                       2608 non-null   object \n",
      " 19  city                          2608 non-null   object \n",
      " 20  state                         2608 non-null   object \n",
      " 21  zip                           2608 non-null   int64  \n",
      " 22  property_id                   2257 non-null   float64\n",
      " 23  location                      1888 non-null   object \n",
      " 24  Latitude                      1888 non-null   float64\n",
      " 25  Longitude                     1888 non-null   float64\n",
      " 26  historic_routine_ins_count    2608 non-null   int64  \n",
      " 27  most_recent_previous_ins      2608 non-null   float64\n",
      " 28  failed_ins_count              2608 non-null   int64  \n",
      " 29  passed_ins_count              2608 non-null   int64  \n",
      " 30  2nd_most_recent_previous_ins  2589 non-null   float64\n",
      " 31  passed_ins_ratio              2608 non-null   float64\n",
      " 32  failed_ins_ratio              2608 non-null   float64\n",
      " 33  target                        2608 non-null   float64\n",
      "dtypes: float64(10), int64(4), object(20)\n",
      "memory usage: 713.1+ KB\n"
     ]
    }
   ],
   "source": [
    "df_rest_yelp_and_ins.info()"
   ]
  },
  {
   "cell_type": "code",
   "execution_count": 17,
   "metadata": {},
   "outputs": [
    {
     "data": {
      "text/html": [
       "<div>\n",
       "<style scoped>\n",
       "    .dataframe tbody tr th:only-of-type {\n",
       "        vertical-align: middle;\n",
       "    }\n",
       "\n",
       "    .dataframe tbody tr th {\n",
       "        vertical-align: top;\n",
       "    }\n",
       "\n",
       "    .dataframe thead th {\n",
       "        text-align: right;\n",
       "    }\n",
       "</style>\n",
       "<table border=\"1\" class=\"dataframe\">\n",
       "  <thead>\n",
       "    <tr style=\"text-align: right;\">\n",
       "      <th></th>\n",
       "      <th>review_count</th>\n",
       "      <th>rating</th>\n",
       "      <th>zip</th>\n",
       "      <th>property_id</th>\n",
       "      <th>Latitude</th>\n",
       "      <th>Longitude</th>\n",
       "      <th>historic_routine_ins_count</th>\n",
       "      <th>most_recent_previous_ins</th>\n",
       "      <th>failed_ins_count</th>\n",
       "      <th>passed_ins_count</th>\n",
       "      <th>2nd_most_recent_previous_ins</th>\n",
       "      <th>passed_ins_ratio</th>\n",
       "      <th>failed_ins_ratio</th>\n",
       "      <th>target</th>\n",
       "    </tr>\n",
       "  </thead>\n",
       "  <tbody>\n",
       "    <tr>\n",
       "      <th>count</th>\n",
       "      <td>2608.000000</td>\n",
       "      <td>2608.000000</td>\n",
       "      <td>2608.000000</td>\n",
       "      <td>2257.000000</td>\n",
       "      <td>1888.000000</td>\n",
       "      <td>1888.000000</td>\n",
       "      <td>2608.000000</td>\n",
       "      <td>2608.000000</td>\n",
       "      <td>2608.000000</td>\n",
       "      <td>2608.000000</td>\n",
       "      <td>2589.000000</td>\n",
       "      <td>2608.000000</td>\n",
       "      <td>2608.000000</td>\n",
       "      <td>2608.000000</td>\n",
       "    </tr>\n",
       "    <tr>\n",
       "      <th>mean</th>\n",
       "      <td>175.515721</td>\n",
       "      <td>3.456672</td>\n",
       "      <td>2129.974693</td>\n",
       "      <td>158536.596810</td>\n",
       "      <td>42.337174</td>\n",
       "      <td>-71.082958</td>\n",
       "      <td>4.066334</td>\n",
       "      <td>0.225460</td>\n",
       "      <td>3.299847</td>\n",
       "      <td>0.766488</td>\n",
       "      <td>0.222093</td>\n",
       "      <td>0.209108</td>\n",
       "      <td>0.790892</td>\n",
       "      <td>0.228528</td>\n",
       "    </tr>\n",
       "    <tr>\n",
       "      <th>std</th>\n",
       "      <td>301.338212</td>\n",
       "      <td>0.805882</td>\n",
       "      <td>29.382497</td>\n",
       "      <td>108558.632737</td>\n",
       "      <td>0.029037</td>\n",
       "      <td>0.033751</td>\n",
       "      <td>2.336279</td>\n",
       "      <td>0.417965</td>\n",
       "      <td>2.285486</td>\n",
       "      <td>0.999192</td>\n",
       "      <td>0.415734</td>\n",
       "      <td>0.286133</td>\n",
       "      <td>0.286133</td>\n",
       "      <td>0.419965</td>\n",
       "    </tr>\n",
       "    <tr>\n",
       "      <th>min</th>\n",
       "      <td>1.000000</td>\n",
       "      <td>1.000000</td>\n",
       "      <td>2108.000000</td>\n",
       "      <td>0.000000</td>\n",
       "      <td>42.237125</td>\n",
       "      <td>-71.172610</td>\n",
       "      <td>1.000000</td>\n",
       "      <td>0.000000</td>\n",
       "      <td>0.000000</td>\n",
       "      <td>0.000000</td>\n",
       "      <td>0.000000</td>\n",
       "      <td>0.000000</td>\n",
       "      <td>0.000000</td>\n",
       "      <td>0.000000</td>\n",
       "    </tr>\n",
       "    <tr>\n",
       "      <th>25%</th>\n",
       "      <td>19.000000</td>\n",
       "      <td>3.000000</td>\n",
       "      <td>2115.000000</td>\n",
       "      <td>82312.000000</td>\n",
       "      <td>42.324138</td>\n",
       "      <td>-71.104476</td>\n",
       "      <td>2.000000</td>\n",
       "      <td>0.000000</td>\n",
       "      <td>1.000000</td>\n",
       "      <td>0.000000</td>\n",
       "      <td>0.000000</td>\n",
       "      <td>0.000000</td>\n",
       "      <td>0.666667</td>\n",
       "      <td>0.000000</td>\n",
       "    </tr>\n",
       "    <tr>\n",
       "      <th>50%</th>\n",
       "      <td>70.000000</td>\n",
       "      <td>3.500000</td>\n",
       "      <td>2124.000000</td>\n",
       "      <td>156115.000000</td>\n",
       "      <td>42.348443</td>\n",
       "      <td>-71.074176</td>\n",
       "      <td>4.000000</td>\n",
       "      <td>0.000000</td>\n",
       "      <td>3.000000</td>\n",
       "      <td>0.000000</td>\n",
       "      <td>0.000000</td>\n",
       "      <td>0.000000</td>\n",
       "      <td>1.000000</td>\n",
       "      <td>0.000000</td>\n",
       "    </tr>\n",
       "    <tr>\n",
       "      <th>75%</th>\n",
       "      <td>209.250000</td>\n",
       "      <td>4.000000</td>\n",
       "      <td>2131.000000</td>\n",
       "      <td>158292.000000</td>\n",
       "      <td>42.355000</td>\n",
       "      <td>-71.058527</td>\n",
       "      <td>6.000000</td>\n",
       "      <td>0.000000</td>\n",
       "      <td>5.000000</td>\n",
       "      <td>1.000000</td>\n",
       "      <td>0.000000</td>\n",
       "      <td>0.333333</td>\n",
       "      <td>1.000000</td>\n",
       "      <td>0.000000</td>\n",
       "    </tr>\n",
       "    <tr>\n",
       "      <th>max</th>\n",
       "      <td>5085.000000</td>\n",
       "      <td>5.000000</td>\n",
       "      <td>2467.000000</td>\n",
       "      <td>437351.000000</td>\n",
       "      <td>42.395173</td>\n",
       "      <td>-70.996730</td>\n",
       "      <td>13.000000</td>\n",
       "      <td>1.000000</td>\n",
       "      <td>13.000000</td>\n",
       "      <td>7.000000</td>\n",
       "      <td>1.000000</td>\n",
       "      <td>1.000000</td>\n",
       "      <td>1.000000</td>\n",
       "      <td>1.000000</td>\n",
       "    </tr>\n",
       "  </tbody>\n",
       "</table>\n",
       "</div>"
      ],
      "text/plain": [
       "       review_count       rating          zip  ...  passed_ins_ratio  failed_ins_ratio       target\n",
       "count   2608.000000  2608.000000  2608.000000  ...       2608.000000       2608.000000  2608.000000\n",
       "mean     175.515721     3.456672  2129.974693  ...          0.209108          0.790892     0.228528\n",
       "std      301.338212     0.805882    29.382497  ...          0.286133          0.286133     0.419965\n",
       "min        1.000000     1.000000  2108.000000  ...          0.000000          0.000000     0.000000\n",
       "25%       19.000000     3.000000  2115.000000  ...          0.000000          0.666667     0.000000\n",
       "50%       70.000000     3.500000  2124.000000  ...          0.000000          1.000000     0.000000\n",
       "75%      209.250000     4.000000  2131.000000  ...          0.333333          1.000000     0.000000\n",
       "max     5085.000000     5.000000  2467.000000  ...          1.000000          1.000000     1.000000\n",
       "\n",
       "[8 rows x 14 columns]"
      ]
     },
     "execution_count": 17,
     "metadata": {},
     "output_type": "execute_result"
    }
   ],
   "source": [
    "df_rest_yelp_and_ins.describe()"
   ]
  },
  {
   "cell_type": "markdown",
   "metadata": {},
   "source": [
    "Based on domain research & the above table, the following variables will be explored & definitely used: **'review_count','rating', 'price', '2nd_most_recent_previous_ins',** and **'licensecat'.**  \n",
    "Other variables that will be examined and possibly used are **'categories','issdttm', 'expdttm',** and **variables concerning geographical location.**"
   ]
  },
  {
   "cell_type": "code",
   "execution_count": 18,
   "metadata": {},
   "outputs": [
    {
     "data": {
      "text/plain": [
       "yelp_id                         2444\n",
       "yelp_alias                      2444\n",
       "address1                        2163\n",
       "url                             2444\n",
       "review_count                     600\n",
       "rating                             9\n",
       "price                              4\n",
       "categories                       157\n",
       "businessname                    2292\n",
       "dbaname                           17\n",
       "legalowner                      1222\n",
       "namelast                        2222\n",
       "namefirst                       1144\n",
       "issdttm                         2608\n",
       "expdttm                            5\n",
       "licstatus                          2\n",
       "licensecat                         4\n",
       "descript                           4\n",
       "address                         2193\n",
       "city                              34\n",
       "state                              3\n",
       "zip                               33\n",
       "property_id                     1940\n",
       "location                        1623\n",
       "Latitude                        1564\n",
       "Longitude                       1584\n",
       "historic_routine_ins_count        13\n",
       "most_recent_previous_ins           2\n",
       "failed_ins_count                  13\n",
       "passed_ins_count                   8\n",
       "2nd_most_recent_previous_ins       2\n",
       "passed_ins_ratio                  28\n",
       "failed_ins_ratio                  28\n",
       "target                             2\n",
       "dtype: int64"
      ]
     },
     "execution_count": 18,
     "metadata": {},
     "output_type": "execute_result"
    }
   ],
   "source": [
    "df_rest_yelp_and_ins.nunique()\n",
    "\n",
    "# df_rest_yelp_and_ins.dbaname.value_counts()"
   ]
  },
  {
   "cell_type": "markdown",
   "metadata": {},
   "source": [
    "The following columns are being dropped as they have a high number of unique string values that most likely will have no predictive power towards the target variable.  \n",
    "Columnns: **'dbaname','legalowner','legalowner','namelast',and 'namefirst'**  \n",
    "Additionally, **'state'** is also dropped as its same across all entries - 'MA', and would not help with unique identification of rows either."
   ]
  },
  {
   "cell_type": "code",
   "execution_count": 9,
   "metadata": {},
   "outputs": [],
   "source": [
    "df_eda = df_rest_yelp_and_ins.drop(columns = ['dbaname','legalowner','legalowner','namelast','namefirst','state'])"
   ]
  },
  {
   "cell_type": "markdown",
   "metadata": {},
   "source": [
    "### Review Count"
   ]
  },
  {
   "cell_type": "code",
   "execution_count": 10,
   "metadata": {},
   "outputs": [
    {
     "data": {
      "text/plain": [
       "target\n",
       "0.0    175.713221\n",
       "1.0    174.848993\n",
       "Name: review_count, dtype: float64"
      ]
     },
     "execution_count": 10,
     "metadata": {},
     "output_type": "execute_result"
    },
    {
     "data": {
      "image/png": "[encoded data removed]",
      "text/plain": [
       "<Figure size 432x288 with 1 Axes>"
      ]
     },
     "metadata": {
      "needs_background": "light"
     },
     "output_type": "display_data"
    }
   ],
   "source": [
    "sns.kdeplot(x='review_count',data=df_eda, hue='target',fill=True)\n",
    "df_eda.groupby(['target',]).review_count.mean()"
   ]
  },
  {
   "cell_type": "code",
   "execution_count": 11,
   "metadata": {},
   "outputs": [
    {
     "data": {
      "text/plain": [
       "review_count\n",
       "(0.999, 5.0]       0.231544\n",
       "(5.0, 13.0]        0.234783\n",
       "(13.0, 26.0]       0.298893\n",
       "(26.0, 43.0]       0.223108\n",
       "(43.0, 70.0]       0.179688\n",
       "(70.0, 109.0]      0.233083\n",
       "(109.0, 170.9]     0.197628\n",
       "(170.9, 264.6]     0.210728\n",
       "(264.6, 463.6]     0.233716\n",
       "(463.6, 5085.0]    0.237548\n",
       "Name: target, dtype: float64"
      ]
     },
     "execution_count": 11,
     "metadata": {},
     "output_type": "execute_result"
    },
    {
     "data": {
      "image/png": "[encoded data removed]",
      "text/plain": [
       "<Figure size 412x360 with 1 Axes>"
      ]
     },
     "metadata": {
      "needs_background": "light"
     },
     "output_type": "display_data"
    }
   ],
   "source": [
    "sns.displot(x=np.log(df_eda.review_count),hue=df_eda.target)\n",
    "# plt.xlim(0,1000)\n",
    "df_eda.groupby(pd.qcut(x=df_eda.review_count,q=10)).target.mean()"
   ]
  },
  {
   "cell_type": "code",
   "execution_count": 12,
   "metadata": {},
   "outputs": [
    {
     "data": {
      "text/html": [
       "<div>\n",
       "<style scoped>\n",
       "    .dataframe tbody tr th:only-of-type {\n",
       "        vertical-align: middle;\n",
       "    }\n",
       "\n",
       "    .dataframe tbody tr th {\n",
       "        vertical-align: top;\n",
       "    }\n",
       "\n",
       "    .dataframe thead th {\n",
       "        text-align: right;\n",
       "    }\n",
       "</style>\n",
       "<table border=\"1\" class=\"dataframe\">\n",
       "  <thead>\n",
       "    <tr style=\"text-align: right;\">\n",
       "      <th></th>\n",
       "      <th>yelp_id</th>\n",
       "      <th>yelp_alias</th>\n",
       "      <th>address1</th>\n",
       "      <th>url</th>\n",
       "      <th>review_count</th>\n",
       "      <th>rating</th>\n",
       "      <th>price</th>\n",
       "      <th>categories</th>\n",
       "      <th>businessname</th>\n",
       "      <th>issdttm</th>\n",
       "      <th>expdttm</th>\n",
       "      <th>licstatus</th>\n",
       "      <th>licensecat</th>\n",
       "      <th>descript</th>\n",
       "      <th>address</th>\n",
       "      <th>city</th>\n",
       "      <th>zip</th>\n",
       "      <th>property_id</th>\n",
       "      <th>location</th>\n",
       "      <th>Latitude</th>\n",
       "      <th>Longitude</th>\n",
       "      <th>historic_routine_ins_count</th>\n",
       "      <th>most_recent_previous_ins</th>\n",
       "      <th>failed_ins_count</th>\n",
       "      <th>passed_ins_count</th>\n",
       "      <th>2nd_most_recent_previous_ins</th>\n",
       "      <th>passed_ins_ratio</th>\n",
       "      <th>failed_ins_ratio</th>\n",
       "      <th>target</th>\n",
       "    </tr>\n",
       "    <tr>\n",
       "      <th>licenseno</th>\n",
       "      <th></th>\n",
       "      <th></th>\n",
       "      <th></th>\n",
       "      <th></th>\n",
       "      <th></th>\n",
       "      <th></th>\n",
       "      <th></th>\n",
       "      <th></th>\n",
       "      <th></th>\n",
       "      <th></th>\n",
       "      <th></th>\n",
       "      <th></th>\n",
       "      <th></th>\n",
       "      <th></th>\n",
       "      <th></th>\n",
       "      <th></th>\n",
       "      <th></th>\n",
       "      <th></th>\n",
       "      <th></th>\n",
       "      <th></th>\n",
       "      <th></th>\n",
       "      <th></th>\n",
       "      <th></th>\n",
       "      <th></th>\n",
       "      <th></th>\n",
       "      <th></th>\n",
       "      <th></th>\n",
       "      <th></th>\n",
       "      <th></th>\n",
       "    </tr>\n",
       "  </thead>\n",
       "  <tbody>\n",
       "    <tr>\n",
       "      <th>23410</th>\n",
       "      <td>y2w6rFaO0XEiG5mFfOsiFA</td>\n",
       "      <td>neptune-oyster-boston</td>\n",
       "      <td>63 Salem St</td>\n",
       "      <td>https://www.yelp.com/biz/neptune-oyster-boston...</td>\n",
       "      <td>5085.0</td>\n",
       "      <td>4.5</td>\n",
       "      <td>$$$</td>\n",
       "      <td>NaN</td>\n",
       "      <td>NEPTUNE RESTAURANT</td>\n",
       "      <td>2012-01-05 11:24:28</td>\n",
       "      <td>2020-12-31 23:59:00</td>\n",
       "      <td>Active</td>\n",
       "      <td>FS</td>\n",
       "      <td>Eating &amp; Drinking</td>\n",
       "      <td>63   Salem ST</td>\n",
       "      <td>Boston</td>\n",
       "      <td>2113</td>\n",
       "      <td>121913.0</td>\n",
       "      <td>(42.363230000, -71.055940000)</td>\n",
       "      <td>42.363230</td>\n",
       "      <td>-71.055940</td>\n",
       "      <td>6</td>\n",
       "      <td>0.0</td>\n",
       "      <td>5</td>\n",
       "      <td>1</td>\n",
       "      <td>0.0</td>\n",
       "      <td>0.166667</td>\n",
       "      <td>0.833333</td>\n",
       "      <td>0.0</td>\n",
       "    </tr>\n",
       "    <tr>\n",
       "      <th>416786</th>\n",
       "      <td>2u_w3rthRzR2uEihW5BC4A</td>\n",
       "      <td>giacomos-ristorante-boston-boston</td>\n",
       "      <td>355 Hanover St</td>\n",
       "      <td>https://www.yelp.com/biz/giacomos-ristorante-b...</td>\n",
       "      <td>3481.0</td>\n",
       "      <td>4.0</td>\n",
       "      <td>$$</td>\n",
       "      <td>NaN</td>\n",
       "      <td>Giacomo's Ristorante</td>\n",
       "      <td>2020-01-21 10:04:35</td>\n",
       "      <td>2020-12-31 23:59:00</td>\n",
       "      <td>Active</td>\n",
       "      <td>FS</td>\n",
       "      <td>Eating &amp; Drinking</td>\n",
       "      <td>353   Hanover ST</td>\n",
       "      <td>Boston</td>\n",
       "      <td>2113</td>\n",
       "      <td>155725.0</td>\n",
       "      <td>(42.364557000, -71.053439000)</td>\n",
       "      <td>42.364557</td>\n",
       "      <td>-71.053439</td>\n",
       "      <td>1</td>\n",
       "      <td>0.0</td>\n",
       "      <td>1</td>\n",
       "      <td>0</td>\n",
       "      <td>NaN</td>\n",
       "      <td>0.000000</td>\n",
       "      <td>1.000000</td>\n",
       "      <td>0.0</td>\n",
       "    </tr>\n",
       "    <tr>\n",
       "      <th>19089</th>\n",
       "      <td>Ruq91rmQNweZ78TzKylQMg</td>\n",
       "      <td>union-oyster-house-boston</td>\n",
       "      <td>41 Union St</td>\n",
       "      <td>https://www.yelp.com/biz/union-oyster-house-bo...</td>\n",
       "      <td>2818.0</td>\n",
       "      <td>3.5</td>\n",
       "      <td>$$</td>\n",
       "      <td>NaN</td>\n",
       "      <td>UNION OYSTER HOUSE</td>\n",
       "      <td>2011-12-14 14:11:17</td>\n",
       "      <td>2020-12-31 23:59:00</td>\n",
       "      <td>Active</td>\n",
       "      <td>FS</td>\n",
       "      <td>Eating &amp; Drinking</td>\n",
       "      <td>41  Union ST</td>\n",
       "      <td>Boston</td>\n",
       "      <td>2108</td>\n",
       "      <td>139293.0</td>\n",
       "      <td>(42.361270000, -71.056880000)</td>\n",
       "      <td>42.361270</td>\n",
       "      <td>-71.056880</td>\n",
       "      <td>7</td>\n",
       "      <td>0.0</td>\n",
       "      <td>6</td>\n",
       "      <td>1</td>\n",
       "      <td>0.0</td>\n",
       "      <td>0.142857</td>\n",
       "      <td>0.857143</td>\n",
       "      <td>0.0</td>\n",
       "    </tr>\n",
       "    <tr>\n",
       "      <th>68416</th>\n",
       "      <td>VnuD2cojPTWd3nIHQjnL8w</td>\n",
       "      <td>island-creek-oyster-bar-boston</td>\n",
       "      <td>500 Commonwealth Ave</td>\n",
       "      <td>https://www.yelp.com/biz/island-creek-oyster-b...</td>\n",
       "      <td>2741.0</td>\n",
       "      <td>4.5</td>\n",
       "      <td>$$$</td>\n",
       "      <td>NaN</td>\n",
       "      <td>Island Creek Oyster Bar</td>\n",
       "      <td>2012-02-06 10:11:59</td>\n",
       "      <td>2020-12-31 23:59:00</td>\n",
       "      <td>Active</td>\n",
       "      <td>FS</td>\n",
       "      <td>Eating &amp; Drinking</td>\n",
       "      <td>500   Commonwealth AVE</td>\n",
       "      <td>Boston</td>\n",
       "      <td>2215</td>\n",
       "      <td>157943.0</td>\n",
       "      <td>(42.348521000, -71.095099000)</td>\n",
       "      <td>42.348521</td>\n",
       "      <td>-71.095099</td>\n",
       "      <td>3</td>\n",
       "      <td>0.0</td>\n",
       "      <td>2</td>\n",
       "      <td>1</td>\n",
       "      <td>1.0</td>\n",
       "      <td>0.333333</td>\n",
       "      <td>0.666667</td>\n",
       "      <td>0.0</td>\n",
       "    </tr>\n",
       "    <tr>\n",
       "      <th>75240</th>\n",
       "      <td>AGR_kBvN__I7aTl0rBywAg</td>\n",
       "      <td>atlantic-fish-company-boston-4</td>\n",
       "      <td>761 Boylston St</td>\n",
       "      <td>https://www.yelp.com/biz/atlantic-fish-company...</td>\n",
       "      <td>2551.0</td>\n",
       "      <td>4.0</td>\n",
       "      <td>$$$</td>\n",
       "      <td>NaN</td>\n",
       "      <td>ATLANTIC FISH COMPANY</td>\n",
       "      <td>2012-01-10 13:10:09</td>\n",
       "      <td>2020-12-31 23:59:00</td>\n",
       "      <td>Active</td>\n",
       "      <td>FS</td>\n",
       "      <td>Eating &amp; Drinking</td>\n",
       "      <td>761   Boylston ST</td>\n",
       "      <td>Boston</td>\n",
       "      <td>2116</td>\n",
       "      <td>18393.0</td>\n",
       "      <td>(42.349350000, -71.081210000)</td>\n",
       "      <td>42.349350</td>\n",
       "      <td>-71.081210</td>\n",
       "      <td>5</td>\n",
       "      <td>1.0</td>\n",
       "      <td>3</td>\n",
       "      <td>2</td>\n",
       "      <td>1.0</td>\n",
       "      <td>0.400000</td>\n",
       "      <td>0.600000</td>\n",
       "      <td>0.0</td>\n",
       "    </tr>\n",
       "  </tbody>\n",
       "</table>\n",
       "</div>"
      ],
      "text/plain": [
       "                          yelp_id                         yelp_alias  ... failed_ins_ratio target\n",
       "licenseno                                                             ...                        \n",
       "23410      y2w6rFaO0XEiG5mFfOsiFA              neptune-oyster-boston  ...         0.833333    0.0\n",
       "416786     2u_w3rthRzR2uEihW5BC4A  giacomos-ristorante-boston-boston  ...         1.000000    0.0\n",
       "19089      Ruq91rmQNweZ78TzKylQMg          union-oyster-house-boston  ...         0.857143    0.0\n",
       "68416      VnuD2cojPTWd3nIHQjnL8w     island-creek-oyster-bar-boston  ...         0.666667    0.0\n",
       "75240      AGR_kBvN__I7aTl0rBywAg     atlantic-fish-company-boston-4  ...         0.600000    0.0\n",
       "\n",
       "[5 rows x 29 columns]"
      ]
     },
     "execution_count": 12,
     "metadata": {},
     "output_type": "execute_result"
    }
   ],
   "source": [
    "df_eda.sort_values(by='review_count',ascending=False).head(5)"
   ]
  },
  {
   "cell_type": "markdown",
   "metadata": {},
   "source": [
    "From the above analysis, **review_count** creates some variation in the target variable. A tree based model should be able to decipher predictions from this.\n",
    "\n",
    "Additionally, the log of the # of reviews seems to have a normal distribution. hence the feature can be transformed for better predictability"
   ]
  },
  {
   "cell_type": "code",
   "execution_count": 13,
   "metadata": {},
   "outputs": [],
   "source": [
    "df_eda['review_count_log'] = np.log(df_eda.review_count)"
   ]
  },
  {
   "cell_type": "markdown",
   "metadata": {},
   "source": [
    "### Rating"
   ]
  },
  {
   "cell_type": "code",
   "execution_count": 14,
   "metadata": {},
   "outputs": [
    {
     "data": {
      "text/plain": [
       "rating\n",
       "1.0    0.205128\n",
       "1.5    0.181818\n",
       "2.0    0.232558\n",
       "2.5    0.241935\n",
       "3.0    0.227790\n",
       "3.5    0.210219\n",
       "4.0    0.216541\n",
       "4.5    0.287273\n",
       "5.0    0.273810\n",
       "Name: target, dtype: float64"
      ]
     },
     "execution_count": 14,
     "metadata": {},
     "output_type": "execute_result"
    }
   ],
   "source": [
    "df_eda.groupby('rating').target.mean()"
   ]
  },
  {
   "cell_type": "code",
   "execution_count": 15,
   "metadata": {},
   "outputs": [
    {
     "data": {
      "text/plain": [
       "<seaborn.axisgrid.FacetGrid at 0x231413b0a30>"
      ]
     },
     "execution_count": 15,
     "metadata": {},
     "output_type": "execute_result"
    },
    {
     "data": {
      "image/png": "[encoded data removed]",
      "text/plain": [
       "<Figure size 412x360 with 1 Axes>"
      ]
     },
     "metadata": {
      "needs_background": "light"
     },
     "output_type": "display_data"
    }
   ],
   "source": [
    "sns.displot(x=df_eda.rating,hue=df_eda.target)"
   ]
  },
  {
   "cell_type": "markdown",
   "metadata": {},
   "source": [
    "The rating column can be kept as is with no transformation. Primarily, it looks like a very low rated restaurant is more likely to fail the inspection. But beyond that too, a restaurant is almost always more likely to fail the inspection."
   ]
  },
  {
   "cell_type": "markdown",
   "metadata": {},
   "source": [
    "### Price"
   ]
  },
  {
   "cell_type": "code",
   "execution_count": 30,
   "metadata": {},
   "outputs": [
    {
     "data": {
      "text/html": [
       "<div>\n",
       "<style scoped>\n",
       "    .dataframe tbody tr th:only-of-type {\n",
       "        vertical-align: middle;\n",
       "    }\n",
       "\n",
       "    .dataframe tbody tr th {\n",
       "        vertical-align: top;\n",
       "    }\n",
       "\n",
       "    .dataframe thead th {\n",
       "        text-align: right;\n",
       "    }\n",
       "</style>\n",
       "<table border=\"1\" class=\"dataframe\">\n",
       "  <thead>\n",
       "    <tr style=\"text-align: right;\">\n",
       "      <th></th>\n",
       "      <th>count</th>\n",
       "      <th>mean</th>\n",
       "    </tr>\n",
       "    <tr>\n",
       "      <th>price</th>\n",
       "      <th></th>\n",
       "      <th></th>\n",
       "    </tr>\n",
       "  </thead>\n",
       "  <tbody>\n",
       "    <tr>\n",
       "      <th>$</th>\n",
       "      <td>997</td>\n",
       "      <td>0.227683</td>\n",
       "    </tr>\n",
       "    <tr>\n",
       "      <th>$$</th>\n",
       "      <td>1052</td>\n",
       "      <td>0.212928</td>\n",
       "    </tr>\n",
       "    <tr>\n",
       "      <th>$$$</th>\n",
       "      <td>170</td>\n",
       "      <td>0.305882</td>\n",
       "    </tr>\n",
       "    <tr>\n",
       "      <th>$$$$</th>\n",
       "      <td>27</td>\n",
       "      <td>0.296296</td>\n",
       "    </tr>\n",
       "    <tr>\n",
       "      <th>NaN</th>\n",
       "      <td>362</td>\n",
       "      <td>0.234807</td>\n",
       "    </tr>\n",
       "  </tbody>\n",
       "</table>\n",
       "</div>"
      ],
      "text/plain": [
       "       count      mean\n",
       "price                 \n",
       "$        997  0.227683\n",
       "$$      1052  0.212928\n",
       "$$$      170  0.305882\n",
       "$$$$      27  0.296296\n",
       "NaN      362  0.234807"
      ]
     },
     "execution_count": 30,
     "metadata": {},
     "output_type": "execute_result"
    }
   ],
   "source": [
    "df_eda.groupby('price',dropna=False).target.agg(['count','mean'])"
   ]
  },
  {
   "cell_type": "markdown",
   "metadata": {},
   "source": [
    "The **Price** variable needs to be imputed to fill the NaN values & be converted into binary dummy columns.  \n",
    "\n",
    "Since the number of possible distinct values for price is limited to just 4 options, the above imputation can be undertaken here."
   ]
  },
  {
   "cell_type": "markdown",
   "metadata": {},
   "source": [
    "Since '$' can mean other operational things, it will be substituted with Price 1, Price 2.. so on."
   ]
  },
  {
   "cell_type": "code",
   "execution_count": 16,
   "metadata": {},
   "outputs": [],
   "source": [
    "df_eda['price'] = df_eda.price.map({'$':'Price_1','$$':'Price_2','$$$':'Price_3','$$$$':'Price_4',})"
   ]
  },
  {
   "cell_type": "code",
   "execution_count": 17,
   "metadata": {},
   "outputs": [],
   "source": [
    "mode_price = df_eda.price.value_counts().idxmax()\n",
    "df_eda['price'] = df_eda.price.fillna(value=mode_price)\n",
    "\n",
    "df_eda = df_eda.join(pd.get_dummies(df_eda.price),how='inner')"
   ]
  },
  {
   "cell_type": "code",
   "execution_count": 18,
   "metadata": {},
   "outputs": [
    {
     "data": {
      "text/plain": [
       "Price_2    1414\n",
       "Price_1     997\n",
       "Price_3     170\n",
       "Price_4      27\n",
       "Name: price, dtype: int64"
      ]
     },
     "execution_count": 18,
     "metadata": {},
     "output_type": "execute_result"
    }
   ],
   "source": [
    "df_eda.price.value_counts()"
   ]
  },
  {
   "cell_type": "markdown",
   "metadata": {},
   "source": [
    "### Second Most Recent Inspection (2nd_most_recent_previous_ins)\n"
   ]
  },
  {
   "cell_type": "code",
   "execution_count": 19,
   "metadata": {},
   "outputs": [
    {
     "data": {
      "text/html": [
       "<div>\n",
       "<style scoped>\n",
       "    .dataframe tbody tr th:only-of-type {\n",
       "        vertical-align: middle;\n",
       "    }\n",
       "\n",
       "    .dataframe tbody tr th {\n",
       "        vertical-align: top;\n",
       "    }\n",
       "\n",
       "    .dataframe thead th {\n",
       "        text-align: right;\n",
       "    }\n",
       "</style>\n",
       "<table border=\"1\" class=\"dataframe\">\n",
       "  <thead>\n",
       "    <tr style=\"text-align: right;\">\n",
       "      <th></th>\n",
       "      <th>count</th>\n",
       "      <th>mean</th>\n",
       "    </tr>\n",
       "    <tr>\n",
       "      <th>2nd_most_recent_previous_ins</th>\n",
       "      <th></th>\n",
       "      <th></th>\n",
       "    </tr>\n",
       "  </thead>\n",
       "  <tbody>\n",
       "    <tr>\n",
       "      <th>0.0</th>\n",
       "      <td>2014</td>\n",
       "      <td>0.208044</td>\n",
       "    </tr>\n",
       "    <tr>\n",
       "      <th>1.0</th>\n",
       "      <td>575</td>\n",
       "      <td>0.306087</td>\n",
       "    </tr>\n",
       "    <tr>\n",
       "      <th>NaN</th>\n",
       "      <td>19</td>\n",
       "      <td>0.052632</td>\n",
       "    </tr>\n",
       "  </tbody>\n",
       "</table>\n",
       "</div>"
      ],
      "text/plain": [
       "                              count      mean\n",
       "2nd_most_recent_previous_ins                 \n",
       "0.0                            2014  0.208044\n",
       "1.0                             575  0.306087\n",
       "NaN                              19  0.052632"
      ]
     },
     "execution_count": 19,
     "metadata": {},
     "output_type": "execute_result"
    }
   ],
   "source": [
    "df_eda.groupby(['2nd_most_recent_previous_ins'],dropna=False).target.agg(['count','mean'])"
   ]
  },
  {
   "cell_type": "markdown",
   "metadata": {},
   "source": [
    "Since there are only a few entries with no inspections 2 periods ago, the rows will be dropped.  \n",
    "If a restaurant in practice has lesser inspections, a different model can be used for its inspection outcome predictions."
   ]
  },
  {
   "cell_type": "code",
   "execution_count": 20,
   "metadata": {},
   "outputs": [],
   "source": [
    "df_eda.dropna(subset=['2nd_most_recent_previous_ins'],inplace=True)"
   ]
  },
  {
   "cell_type": "code",
   "execution_count": 21,
   "metadata": {},
   "outputs": [
    {
     "data": {
      "text/plain": [
       "0"
      ]
     },
     "execution_count": 21,
     "metadata": {},
     "output_type": "execute_result"
    }
   ],
   "source": [
    "df_eda['2nd_most_recent_previous_ins'].isna().sum()"
   ]
  },
  {
   "cell_type": "code",
   "execution_count": 37,
   "metadata": {},
   "outputs": [
    {
     "data": {
      "text/html": [
       "<div>\n",
       "<style scoped>\n",
       "    .dataframe tbody tr th:only-of-type {\n",
       "        vertical-align: middle;\n",
       "    }\n",
       "\n",
       "    .dataframe tbody tr th {\n",
       "        vertical-align: top;\n",
       "    }\n",
       "\n",
       "    .dataframe thead th {\n",
       "        text-align: right;\n",
       "    }\n",
       "</style>\n",
       "<table border=\"1\" class=\"dataframe\">\n",
       "  <thead>\n",
       "    <tr style=\"text-align: right;\">\n",
       "      <th></th>\n",
       "      <th>count</th>\n",
       "      <th>mean</th>\n",
       "    </tr>\n",
       "    <tr>\n",
       "      <th>2nd_most_recent_previous_ins</th>\n",
       "      <th></th>\n",
       "      <th></th>\n",
       "    </tr>\n",
       "  </thead>\n",
       "  <tbody>\n",
       "    <tr>\n",
       "      <th>0.0</th>\n",
       "      <td>2014</td>\n",
       "      <td>0.208044</td>\n",
       "    </tr>\n",
       "    <tr>\n",
       "      <th>1.0</th>\n",
       "      <td>575</td>\n",
       "      <td>0.306087</td>\n",
       "    </tr>\n",
       "  </tbody>\n",
       "</table>\n",
       "</div>"
      ],
      "text/plain": [
       "                              count      mean\n",
       "2nd_most_recent_previous_ins                 \n",
       "0.0                            2014  0.208044\n",
       "1.0                             575  0.306087"
      ]
     },
     "execution_count": 37,
     "metadata": {},
     "output_type": "execute_result"
    }
   ],
   "source": [
    "df_eda.groupby(['2nd_most_recent_previous_ins'],dropna=False).target.agg(['count','mean'])"
   ]
  },
  {
   "cell_type": "markdown",
   "metadata": {},
   "source": [
    "### License Category (licensecat / descript)"
   ]
  },
  {
   "cell_type": "code",
   "execution_count": 38,
   "metadata": {},
   "outputs": [
    {
     "data": {
      "text/plain": [
       "Index(['yelp_id', 'yelp_alias', 'address1', 'url', 'review_count', 'rating',\n",
       "       'price', 'categories', 'businessname', 'issdttm', 'expdttm',\n",
       "       'licstatus', 'licensecat', 'descript', 'address', 'city', 'zip',\n",
       "       'property_id', 'location', 'Latitude', 'Longitude',\n",
       "       'historic_routine_ins_count', 'most_recent_previous_ins',\n",
       "       'failed_ins_count', 'passed_ins_count', '2nd_most_recent_previous_ins',\n",
       "       'passed_ins_ratio', 'failed_ins_ratio', 'target', 'review_count_log',\n",
       "       'Price_1', 'Price_2', 'Price_3', 'Price_4'],\n",
       "      dtype='object')"
      ]
     },
     "execution_count": 38,
     "metadata": {},
     "output_type": "execute_result"
    }
   ],
   "source": [
    "df_eda.columns"
   ]
  },
  {
   "cell_type": "code",
   "execution_count": 39,
   "metadata": {},
   "outputs": [
    {
     "data": {
      "text/html": [
       "<div>\n",
       "<style scoped>\n",
       "    .dataframe tbody tr th:only-of-type {\n",
       "        vertical-align: middle;\n",
       "    }\n",
       "\n",
       "    .dataframe tbody tr th {\n",
       "        vertical-align: top;\n",
       "    }\n",
       "\n",
       "    .dataframe thead th {\n",
       "        text-align: right;\n",
       "    }\n",
       "</style>\n",
       "<table border=\"1\" class=\"dataframe\">\n",
       "  <thead>\n",
       "    <tr style=\"text-align: right;\">\n",
       "      <th></th>\n",
       "      <th>count</th>\n",
       "      <th>mean</th>\n",
       "    </tr>\n",
       "    <tr>\n",
       "      <th>descript</th>\n",
       "      <th></th>\n",
       "      <th></th>\n",
       "    </tr>\n",
       "  </thead>\n",
       "  <tbody>\n",
       "    <tr>\n",
       "      <th>Eating &amp; Drinking</th>\n",
       "      <td>1339</td>\n",
       "      <td>0.215086</td>\n",
       "    </tr>\n",
       "    <tr>\n",
       "      <th>Eating &amp; Drinking w/ Take Out</th>\n",
       "      <td>969</td>\n",
       "      <td>0.221878</td>\n",
       "    </tr>\n",
       "    <tr>\n",
       "      <th>Mobile Food Walk On</th>\n",
       "      <td>5</td>\n",
       "      <td>0.400000</td>\n",
       "    </tr>\n",
       "    <tr>\n",
       "      <th>Retail Food</th>\n",
       "      <td>276</td>\n",
       "      <td>0.326087</td>\n",
       "    </tr>\n",
       "  </tbody>\n",
       "</table>\n",
       "</div>"
      ],
      "text/plain": [
       "                               count      mean\n",
       "descript                                      \n",
       "Eating & Drinking               1339  0.215086\n",
       "Eating & Drinking w/ Take Out    969  0.221878\n",
       "Mobile Food Walk On                5  0.400000\n",
       "Retail Food                      276  0.326087"
      ]
     },
     "execution_count": 39,
     "metadata": {},
     "output_type": "execute_result"
    }
   ],
   "source": [
    "df_eda.groupby('descript',dropna=False).target.agg(['count','mean'])"
   ]
  },
  {
   "cell_type": "markdown",
   "metadata": {},
   "source": [
    "Likewise, the licensecat columns need to be encoded into dummy variables. Since the 4 categories are fixed and a restaurant always has to have a category, these values can be imputed right now."
   ]
  },
  {
   "cell_type": "code",
   "execution_count": 41,
   "metadata": {},
   "outputs": [
    {
     "data": {
      "text/plain": [
       "(2589, 34)"
      ]
     },
     "execution_count": 41,
     "metadata": {},
     "output_type": "execute_result"
    }
   ],
   "source": [
    "df_eda.shape"
   ]
  },
  {
   "cell_type": "code",
   "execution_count": 42,
   "metadata": {},
   "outputs": [
    {
     "data": {
      "text/html": [
       "<div>\n",
       "<style scoped>\n",
       "    .dataframe tbody tr th:only-of-type {\n",
       "        vertical-align: middle;\n",
       "    }\n",
       "\n",
       "    .dataframe tbody tr th {\n",
       "        vertical-align: top;\n",
       "    }\n",
       "\n",
       "    .dataframe thead th {\n",
       "        text-align: right;\n",
       "    }\n",
       "</style>\n",
       "<table border=\"1\" class=\"dataframe\">\n",
       "  <thead>\n",
       "    <tr style=\"text-align: right;\">\n",
       "      <th></th>\n",
       "      <th>yelp_id</th>\n",
       "      <th>yelp_alias</th>\n",
       "      <th>address1</th>\n",
       "      <th>url</th>\n",
       "      <th>review_count</th>\n",
       "      <th>rating</th>\n",
       "      <th>price</th>\n",
       "      <th>categories</th>\n",
       "      <th>businessname</th>\n",
       "      <th>issdttm</th>\n",
       "      <th>expdttm</th>\n",
       "      <th>licstatus</th>\n",
       "      <th>licensecat</th>\n",
       "      <th>descript</th>\n",
       "      <th>address</th>\n",
       "      <th>city</th>\n",
       "      <th>zip</th>\n",
       "      <th>property_id</th>\n",
       "      <th>location</th>\n",
       "      <th>Latitude</th>\n",
       "      <th>Longitude</th>\n",
       "      <th>historic_routine_ins_count</th>\n",
       "      <th>most_recent_previous_ins</th>\n",
       "      <th>failed_ins_count</th>\n",
       "      <th>passed_ins_count</th>\n",
       "      <th>2nd_most_recent_previous_ins</th>\n",
       "      <th>passed_ins_ratio</th>\n",
       "      <th>failed_ins_ratio</th>\n",
       "      <th>target</th>\n",
       "      <th>review_count_log</th>\n",
       "      <th>Price_1</th>\n",
       "      <th>Price_2</th>\n",
       "      <th>Price_3</th>\n",
       "      <th>Price_4</th>\n",
       "      <th>FS</th>\n",
       "      <th>FT</th>\n",
       "      <th>MFW</th>\n",
       "      <th>RF</th>\n",
       "    </tr>\n",
       "    <tr>\n",
       "      <th>licenseno</th>\n",
       "      <th></th>\n",
       "      <th></th>\n",
       "      <th></th>\n",
       "      <th></th>\n",
       "      <th></th>\n",
       "      <th></th>\n",
       "      <th></th>\n",
       "      <th></th>\n",
       "      <th></th>\n",
       "      <th></th>\n",
       "      <th></th>\n",
       "      <th></th>\n",
       "      <th></th>\n",
       "      <th></th>\n",
       "      <th></th>\n",
       "      <th></th>\n",
       "      <th></th>\n",
       "      <th></th>\n",
       "      <th></th>\n",
       "      <th></th>\n",
       "      <th></th>\n",
       "      <th></th>\n",
       "      <th></th>\n",
       "      <th></th>\n",
       "      <th></th>\n",
       "      <th></th>\n",
       "      <th></th>\n",
       "      <th></th>\n",
       "      <th></th>\n",
       "      <th></th>\n",
       "      <th></th>\n",
       "      <th></th>\n",
       "      <th></th>\n",
       "      <th></th>\n",
       "      <th></th>\n",
       "      <th></th>\n",
       "      <th></th>\n",
       "      <th></th>\n",
       "    </tr>\n",
       "  </thead>\n",
       "  <tbody>\n",
       "    <tr>\n",
       "      <th>87059</th>\n",
       "      <td>BdHONnZzNFUdwQJbpuOd_A</td>\n",
       "      <td>100-delicias-roslindale-4</td>\n",
       "      <td>635 Hyde Park Ave</td>\n",
       "      <td>https://www.yelp.com/biz/100-delicias-roslinda...</td>\n",
       "      <td>37.0</td>\n",
       "      <td>2.0</td>\n",
       "      <td>Price_2</td>\n",
       "      <td>{'alias': 'noodles', 'title': 'Noodles'}</td>\n",
       "      <td>100 Percent Delicia Food</td>\n",
       "      <td>2013-04-05 12:47:23</td>\n",
       "      <td>2020-12-31 23:59:00</td>\n",
       "      <td>Active</td>\n",
       "      <td>FS</td>\n",
       "      <td>Eating &amp; Drinking</td>\n",
       "      <td>635   Hyde Park AVE</td>\n",
       "      <td>Roslindale</td>\n",
       "      <td>2131</td>\n",
       "      <td>77476.0</td>\n",
       "      <td>(42.278590000, -71.119440000)</td>\n",
       "      <td>42.278590</td>\n",
       "      <td>-71.119440</td>\n",
       "      <td>5</td>\n",
       "      <td>0.0</td>\n",
       "      <td>5</td>\n",
       "      <td>0</td>\n",
       "      <td>0.0</td>\n",
       "      <td>0.0</td>\n",
       "      <td>1.0</td>\n",
       "      <td>1.0</td>\n",
       "      <td>3.610918</td>\n",
       "      <td>0</td>\n",
       "      <td>1</td>\n",
       "      <td>0</td>\n",
       "      <td>0</td>\n",
       "      <td>1</td>\n",
       "      <td>0</td>\n",
       "      <td>0</td>\n",
       "      <td>0</td>\n",
       "    </tr>\n",
       "    <tr>\n",
       "      <th>351943</th>\n",
       "      <td>dAolyz6VhWLFnpltqOWp1w</td>\n",
       "      <td>100-delicias-express-jamaica-plain</td>\n",
       "      <td>660A Centre St</td>\n",
       "      <td>https://www.yelp.com/biz/100-delicias-express-...</td>\n",
       "      <td>26.0</td>\n",
       "      <td>4.0</td>\n",
       "      <td>Price_2</td>\n",
       "      <td>{'alias': 'noodles', 'title': 'Noodles'}</td>\n",
       "      <td>100 Percent Delicias Express</td>\n",
       "      <td>2018-11-26 09:59:52</td>\n",
       "      <td>2020-12-31 23:59:00</td>\n",
       "      <td>Active</td>\n",
       "      <td>FT</td>\n",
       "      <td>Eating &amp; Drinking w/ Take Out</td>\n",
       "      <td>656   Centre ST</td>\n",
       "      <td>Jamaica Plain</td>\n",
       "      <td>2130</td>\n",
       "      <td>28152.0</td>\n",
       "      <td>(42.312830000, -71.113860000)</td>\n",
       "      <td>42.312830</td>\n",
       "      <td>-71.113860</td>\n",
       "      <td>2</td>\n",
       "      <td>0.0</td>\n",
       "      <td>2</td>\n",
       "      <td>0</td>\n",
       "      <td>0.0</td>\n",
       "      <td>0.0</td>\n",
       "      <td>1.0</td>\n",
       "      <td>0.0</td>\n",
       "      <td>3.258097</td>\n",
       "      <td>0</td>\n",
       "      <td>1</td>\n",
       "      <td>0</td>\n",
       "      <td>0</td>\n",
       "      <td>0</td>\n",
       "      <td>1</td>\n",
       "      <td>0</td>\n",
       "      <td>0</td>\n",
       "    </tr>\n",
       "    <tr>\n",
       "      <th>313440</th>\n",
       "      <td>_LLIO1lyRW2pu8q_AkUo5g</td>\n",
       "      <td>1000-degrees-neapolitan-pizzeria-boston-4</td>\n",
       "      <td>45 Court St</td>\n",
       "      <td>https://www.yelp.com/biz/1000-degrees-neapolit...</td>\n",
       "      <td>35.0</td>\n",
       "      <td>3.5</td>\n",
       "      <td>Price_2</td>\n",
       "      <td>{'alias': 'pizza', 'title': 'Pizza'}</td>\n",
       "      <td>1000 Degrees Pizza</td>\n",
       "      <td>2017-08-14 08:49:37</td>\n",
       "      <td>2019-12-31 23:59:00</td>\n",
       "      <td>Inactive</td>\n",
       "      <td>FS</td>\n",
       "      <td>Eating &amp; Drinking</td>\n",
       "      <td>55   Court ST</td>\n",
       "      <td>Boston</td>\n",
       "      <td>2108</td>\n",
       "      <td>156226.0</td>\n",
       "      <td>(42.359227000, -71.058878000)</td>\n",
       "      <td>42.359227</td>\n",
       "      <td>-71.058878</td>\n",
       "      <td>2</td>\n",
       "      <td>1.0</td>\n",
       "      <td>1</td>\n",
       "      <td>1</td>\n",
       "      <td>0.0</td>\n",
       "      <td>0.5</td>\n",
       "      <td>0.5</td>\n",
       "      <td>1.0</td>\n",
       "      <td>3.555348</td>\n",
       "      <td>0</td>\n",
       "      <td>1</td>\n",
       "      <td>0</td>\n",
       "      <td>0</td>\n",
       "      <td>1</td>\n",
       "      <td>0</td>\n",
       "      <td>0</td>\n",
       "      <td>0</td>\n",
       "    </tr>\n",
       "    <tr>\n",
       "      <th>27609</th>\n",
       "      <td>BXlYwqIWf8m7qk1RFMKCeQ</td>\n",
       "      <td>163-vietnamese-sandwiches-and-bubble-tea-boston</td>\n",
       "      <td>66 Harrison Ave</td>\n",
       "      <td>https://www.yelp.com/biz/163-vietnamese-sandwi...</td>\n",
       "      <td>337.0</td>\n",
       "      <td>3.5</td>\n",
       "      <td>Price_1</td>\n",
       "      <td>{'alias': 'noodles', 'title': 'Noodles'}</td>\n",
       "      <td>163 Vietnamese Sandwich</td>\n",
       "      <td>2011-12-15 12:51:38</td>\n",
       "      <td>2020-12-31 23:59:00</td>\n",
       "      <td>Active</td>\n",
       "      <td>FS</td>\n",
       "      <td>Eating &amp; Drinking</td>\n",
       "      <td>66    Harrison AV</td>\n",
       "      <td>BOSTON</td>\n",
       "      <td>2111</td>\n",
       "      <td>NaN</td>\n",
       "      <td>NaN</td>\n",
       "      <td>NaN</td>\n",
       "      <td>NaN</td>\n",
       "      <td>4</td>\n",
       "      <td>0.0</td>\n",
       "      <td>4</td>\n",
       "      <td>0</td>\n",
       "      <td>0.0</td>\n",
       "      <td>0.0</td>\n",
       "      <td>1.0</td>\n",
       "      <td>0.0</td>\n",
       "      <td>5.820083</td>\n",
       "      <td>1</td>\n",
       "      <td>0</td>\n",
       "      <td>0</td>\n",
       "      <td>0</td>\n",
       "      <td>1</td>\n",
       "      <td>0</td>\n",
       "      <td>0</td>\n",
       "      <td>0</td>\n",
       "    </tr>\n",
       "    <tr>\n",
       "      <th>18671</th>\n",
       "      <td>yv99L9NjxNb5hLVCy01ZCw</td>\n",
       "      <td>twentieth-century-bowling-lanes-hyde-park-2</td>\n",
       "      <td>1231 Hyde Park Ave</td>\n",
       "      <td>https://www.yelp.com/biz/twentieth-century-bow...</td>\n",
       "      <td>1.0</td>\n",
       "      <td>5.0</td>\n",
       "      <td>Price_2</td>\n",
       "      <td>{'alias': 'bowling', 'title': 'Bowling'}</td>\n",
       "      <td>20TH CENTRY BOWLING LANES</td>\n",
       "      <td>2012-01-25 13:39:22</td>\n",
       "      <td>2020-12-31 23:59:00</td>\n",
       "      <td>Active</td>\n",
       "      <td>FT</td>\n",
       "      <td>Eating &amp; Drinking w/ Take Out</td>\n",
       "      <td>1231   Hyde Park AVE</td>\n",
       "      <td>Hyde Park</td>\n",
       "      <td>2136</td>\n",
       "      <td>77089.0</td>\n",
       "      <td>(42.256820000, -71.124110000)</td>\n",
       "      <td>42.256820</td>\n",
       "      <td>-71.124110</td>\n",
       "      <td>1</td>\n",
       "      <td>0.0</td>\n",
       "      <td>1</td>\n",
       "      <td>0</td>\n",
       "      <td>1.0</td>\n",
       "      <td>0.0</td>\n",
       "      <td>1.0</td>\n",
       "      <td>0.0</td>\n",
       "      <td>0.000000</td>\n",
       "      <td>0</td>\n",
       "      <td>1</td>\n",
       "      <td>0</td>\n",
       "      <td>0</td>\n",
       "      <td>0</td>\n",
       "      <td>1</td>\n",
       "      <td>0</td>\n",
       "      <td>0</td>\n",
       "    </tr>\n",
       "  </tbody>\n",
       "</table>\n",
       "</div>"
      ],
      "text/plain": [
       "                          yelp_id                                       yelp_alias            address1  ... FT  MFW  RF\n",
       "licenseno                                                                                               ...            \n",
       "87059      BdHONnZzNFUdwQJbpuOd_A                        100-delicias-roslindale-4   635 Hyde Park Ave  ...  0    0   0\n",
       "351943     dAolyz6VhWLFnpltqOWp1w               100-delicias-express-jamaica-plain      660A Centre St  ...  1    0   0\n",
       "313440     _LLIO1lyRW2pu8q_AkUo5g        1000-degrees-neapolitan-pizzeria-boston-4         45 Court St  ...  0    0   0\n",
       "27609      BXlYwqIWf8m7qk1RFMKCeQ  163-vietnamese-sandwiches-and-bubble-tea-boston     66 Harrison Ave  ...  0    0   0\n",
       "18671      yv99L9NjxNb5hLVCy01ZCw      twentieth-century-bowling-lanes-hyde-park-2  1231 Hyde Park Ave  ...  1    0   0\n",
       "\n",
       "[5 rows x 38 columns]"
      ]
     },
     "execution_count": 42,
     "metadata": {},
     "output_type": "execute_result"
    }
   ],
   "source": [
    "df_eda = df_eda.join(pd.get_dummies(df_eda.licensecat),how='inner')\n",
    "df_eda.head()"
   ]
  },
  {
   "cell_type": "markdown",
   "metadata": {},
   "source": [
    "### Categories"
   ]
  },
  {
   "cell_type": "code",
   "execution_count": 43,
   "metadata": {},
   "outputs": [],
   "source": [
    "df_eda['categories_clean'] = df_eda.categories.map(ast.literal_eval,na_action='ignore').map(lambda x: x.get('title'),na_action='ignore')"
   ]
  },
  {
   "cell_type": "markdown",
   "metadata": {},
   "source": [
    "There are 133 unique values; and none of the high quantity ones have a particular trend of the target variable changing as the category changes. Morever, there are 1372 nan values.  \n",
    "Hence, this column will be ignored for the moment."
   ]
  },
  {
   "cell_type": "markdown",
   "metadata": {},
   "source": [
    "### License Dates ('issdttm' & 'expdttm')"
   ]
  },
  {
   "cell_type": "code",
   "execution_count": 60,
   "metadata": {},
   "outputs": [],
   "source": [
    "df_eda['issdttm'] = pd.to_datetime(df_eda.issdttm)\n",
    "df_eda['expdttm'] = pd.to_datetime(df_eda.expdttm)\n",
    "df_eda['license_issue_since'] = df_eda.issdttm.map(lambda x: dt.datetime.now() - x).dt.days\n",
    "df_eda['license_expiry_left'] = df_eda.expdttm.map(lambda x: x - dt.datetime.now()).dt.days"
   ]
  },
  {
   "cell_type": "code",
   "execution_count": 61,
   "metadata": {},
   "outputs": [
    {
     "data": {
      "text/plain": [
       "<AxesSubplot:xlabel='license_issue_since', ylabel='Density'>"
      ]
     },
     "execution_count": 61,
     "metadata": {},
     "output_type": "execute_result"
    },
    {
     "data": {
      "image/png": "[encoded data removed]",
      "text/plain": [
       "<Figure size 432x288 with 1 Axes>"
      ]
     },
     "metadata": {
      "needs_background": "light"
     },
     "output_type": "display_data"
    }
   ],
   "source": [
    "sns.kdeplot(x='license_issue_since',data=df_eda,hue='target',fill=True)"
   ]
  },
  {
   "cell_type": "code",
   "execution_count": 55,
   "metadata": {},
   "outputs": [
    {
     "data": {
      "text/plain": [
       "(3155.0, 3178.0]     302\n",
       "(3217.0, 3237.0]     273\n",
       "(1584.4, 2054.0]     264\n",
       "(2757.8, 3155.0]     260\n",
       "(1077.6, 1584.4]     259\n",
       "(242.999, 1077.6]    259\n",
       "(3199.0, 3217.0]     258\n",
       "(2054.0, 2757.8]     254\n",
       "(3237.0, 3286.0]     242\n",
       "(3178.0, 3199.0]     218\n",
       "Name: license_issue_since, dtype: int64"
      ]
     },
     "execution_count": 55,
     "metadata": {},
     "output_type": "execute_result"
    }
   ],
   "source": [
    "pd.qcut(x=df_eda.license_issue_since,q=10).value_counts()"
   ]
  },
  {
   "cell_type": "code",
   "execution_count": 56,
   "metadata": {},
   "outputs": [
    {
     "data": {
      "text/plain": [
       "license_issue_since\n",
       "(242.999, 1077.6]    0.185328\n",
       "(1077.6, 1584.4]     0.181467\n",
       "(1584.4, 2054.0]     0.215909\n",
       "(2054.0, 2757.8]     0.196850\n",
       "(2757.8, 3155.0]     0.242308\n",
       "(3155.0, 3178.0]     0.235099\n",
       "(3178.0, 3199.0]     0.311927\n",
       "(3199.0, 3217.0]     0.236434\n",
       "(3217.0, 3237.0]     0.227106\n",
       "(3237.0, 3286.0]     0.280992\n",
       "Name: target, dtype: float64"
      ]
     },
     "execution_count": 56,
     "metadata": {},
     "output_type": "execute_result"
    }
   ],
   "source": [
    "df_eda.groupby(pd.qcut(x=df_eda.license_issue_since,q=10)).target.mean()"
   ]
  },
  {
   "cell_type": "markdown",
   "metadata": {},
   "source": [
    "Not sure if there is anything here. The longer a restaurant has held a license, it may or may not be better or worse with inspections. "
   ]
  },
  {
   "cell_type": "markdown",
   "metadata": {},
   "source": [
    "### Geographical Location\n",
    "\n",
    "There are multiple ways provided to identify geographical locations. The question comes down to how best club the data together. "
   ]
  },
  {
   "cell_type": "code",
   "execution_count": 62,
   "metadata": {},
   "outputs": [
    {
     "data": {
      "text/html": [
       "<div>\n",
       "<style scoped>\n",
       "    .dataframe tbody tr th:only-of-type {\n",
       "        vertical-align: middle;\n",
       "    }\n",
       "\n",
       "    .dataframe tbody tr th {\n",
       "        vertical-align: top;\n",
       "    }\n",
       "\n",
       "    .dataframe thead th {\n",
       "        text-align: right;\n",
       "    }\n",
       "</style>\n",
       "<table border=\"1\" class=\"dataframe\">\n",
       "  <thead>\n",
       "    <tr style=\"text-align: right;\">\n",
       "      <th></th>\n",
       "      <th>count</th>\n",
       "      <th>mean</th>\n",
       "    </tr>\n",
       "    <tr>\n",
       "      <th>zip</th>\n",
       "      <th></th>\n",
       "      <th></th>\n",
       "    </tr>\n",
       "  </thead>\n",
       "  <tbody>\n",
       "    <tr>\n",
       "      <th>2163</th>\n",
       "      <td>1</td>\n",
       "      <td>0.000000</td>\n",
       "    </tr>\n",
       "    <tr>\n",
       "      <th>2140</th>\n",
       "      <td>1</td>\n",
       "      <td>1.000000</td>\n",
       "    </tr>\n",
       "    <tr>\n",
       "      <th>2117</th>\n",
       "      <td>1</td>\n",
       "      <td>0.000000</td>\n",
       "    </tr>\n",
       "    <tr>\n",
       "      <th>2467</th>\n",
       "      <td>3</td>\n",
       "      <td>0.666667</td>\n",
       "    </tr>\n",
       "    <tr>\n",
       "      <th>2201</th>\n",
       "      <td>4</td>\n",
       "      <td>0.000000</td>\n",
       "    </tr>\n",
       "    <tr>\n",
       "      <th>2199</th>\n",
       "      <td>28</td>\n",
       "      <td>0.392857</td>\n",
       "    </tr>\n",
       "    <tr>\n",
       "      <th>2129</th>\n",
       "      <td>32</td>\n",
       "      <td>0.187500</td>\n",
       "    </tr>\n",
       "    <tr>\n",
       "      <th>2121</th>\n",
       "      <td>41</td>\n",
       "      <td>0.097561</td>\n",
       "    </tr>\n",
       "    <tr>\n",
       "      <th>2126</th>\n",
       "      <td>44</td>\n",
       "      <td>0.068182</td>\n",
       "    </tr>\n",
       "    <tr>\n",
       "      <th>2120</th>\n",
       "      <td>45</td>\n",
       "      <td>0.244444</td>\n",
       "    </tr>\n",
       "    <tr>\n",
       "      <th>2136</th>\n",
       "      <td>51</td>\n",
       "      <td>0.156863</td>\n",
       "    </tr>\n",
       "    <tr>\n",
       "      <th>2122</th>\n",
       "      <td>63</td>\n",
       "      <td>0.190476</td>\n",
       "    </tr>\n",
       "    <tr>\n",
       "      <th>2132</th>\n",
       "      <td>63</td>\n",
       "      <td>0.158730</td>\n",
       "    </tr>\n",
       "    <tr>\n",
       "      <th>2119</th>\n",
       "      <td>67</td>\n",
       "      <td>0.223881</td>\n",
       "    </tr>\n",
       "    <tr>\n",
       "      <th>2113</th>\n",
       "      <td>69</td>\n",
       "      <td>0.217391</td>\n",
       "    </tr>\n",
       "    <tr>\n",
       "      <th>2131</th>\n",
       "      <td>75</td>\n",
       "      <td>0.120000</td>\n",
       "    </tr>\n",
       "    <tr>\n",
       "      <th>2210</th>\n",
       "      <td>83</td>\n",
       "      <td>0.385542</td>\n",
       "    </tr>\n",
       "    <tr>\n",
       "      <th>2125</th>\n",
       "      <td>84</td>\n",
       "      <td>0.095238</td>\n",
       "    </tr>\n",
       "    <tr>\n",
       "      <th>2124</th>\n",
       "      <td>85</td>\n",
       "      <td>0.164706</td>\n",
       "    </tr>\n",
       "    <tr>\n",
       "      <th>2110</th>\n",
       "      <td>98</td>\n",
       "      <td>0.387755</td>\n",
       "    </tr>\n",
       "    <tr>\n",
       "      <th>2108</th>\n",
       "      <td>100</td>\n",
       "      <td>0.260000</td>\n",
       "    </tr>\n",
       "    <tr>\n",
       "      <th>2109</th>\n",
       "      <td>101</td>\n",
       "      <td>0.227723</td>\n",
       "    </tr>\n",
       "    <tr>\n",
       "      <th>2118</th>\n",
       "      <td>103</td>\n",
       "      <td>0.252427</td>\n",
       "    </tr>\n",
       "    <tr>\n",
       "      <th>2114</th>\n",
       "      <td>103</td>\n",
       "      <td>0.145631</td>\n",
       "    </tr>\n",
       "    <tr>\n",
       "      <th>2111</th>\n",
       "      <td>104</td>\n",
       "      <td>0.230769</td>\n",
       "    </tr>\n",
       "    <tr>\n",
       "      <th>2130</th>\n",
       "      <td>106</td>\n",
       "      <td>0.226415</td>\n",
       "    </tr>\n",
       "    <tr>\n",
       "      <th>2127</th>\n",
       "      <td>113</td>\n",
       "      <td>0.300885</td>\n",
       "    </tr>\n",
       "    <tr>\n",
       "      <th>2135</th>\n",
       "      <td>116</td>\n",
       "      <td>0.206897</td>\n",
       "    </tr>\n",
       "    <tr>\n",
       "      <th>2215</th>\n",
       "      <td>121</td>\n",
       "      <td>0.330579</td>\n",
       "    </tr>\n",
       "    <tr>\n",
       "      <th>2128</th>\n",
       "      <td>138</td>\n",
       "      <td>0.260870</td>\n",
       "    </tr>\n",
       "    <tr>\n",
       "      <th>2134</th>\n",
       "      <td>151</td>\n",
       "      <td>0.205298</td>\n",
       "    </tr>\n",
       "    <tr>\n",
       "      <th>2115</th>\n",
       "      <td>158</td>\n",
       "      <td>0.246835</td>\n",
       "    </tr>\n",
       "    <tr>\n",
       "      <th>2116</th>\n",
       "      <td>237</td>\n",
       "      <td>0.227848</td>\n",
       "    </tr>\n",
       "  </tbody>\n",
       "</table>\n",
       "</div>"
      ],
      "text/plain": [
       "      count      mean\n",
       "zip                  \n",
       "2163      1  0.000000\n",
       "2140      1  1.000000\n",
       "2117      1  0.000000\n",
       "2467      3  0.666667\n",
       "2201      4  0.000000\n",
       "2199     28  0.392857\n",
       "2129     32  0.187500\n",
       "2121     41  0.097561\n",
       "2126     44  0.068182\n",
       "2120     45  0.244444\n",
       "2136     51  0.156863\n",
       "2122     63  0.190476\n",
       "2132     63  0.158730\n",
       "2119     67  0.223881\n",
       "2113     69  0.217391\n",
       "2131     75  0.120000\n",
       "2210     83  0.385542\n",
       "2125     84  0.095238\n",
       "2124     85  0.164706\n",
       "2110     98  0.387755\n",
       "2108    100  0.260000\n",
       "2109    101  0.227723\n",
       "2118    103  0.252427\n",
       "2114    103  0.145631\n",
       "2111    104  0.230769\n",
       "2130    106  0.226415\n",
       "2127    113  0.300885\n",
       "2135    116  0.206897\n",
       "2215    121  0.330579\n",
       "2128    138  0.260870\n",
       "2134    151  0.205298\n",
       "2115    158  0.246835\n",
       "2116    237  0.227848"
      ]
     },
     "execution_count": 62,
     "metadata": {},
     "output_type": "execute_result"
    }
   ],
   "source": [
    "df_eda.groupby('zip').target.agg(['count','mean']).sort_values(by='count')"
   ]
  },
  {
   "cell_type": "markdown",
   "metadata": {},
   "source": [
    "The geographical locations could be useful, but shall be incorporated only if the predictive power is poor from the other factors. Since there are quite a few of them, which would balloon up the number of features when representated as dummy variables or additional research would have to be done to determine how they can be grouped together. "
   ]
  },
  {
   "cell_type": "markdown",
   "metadata": {},
   "source": [
    "----"
   ]
  },
  {
   "cell_type": "markdown",
   "metadata": {},
   "source": [
    "At the moment, we will use the following features:\n",
    " '''\n",
    " **'review_count',\n",
    " 'rating',\n",
    " 'historic_routine_ins_count',\n",
    " 'most_recent_previous_ins',\n",
    " 'failed_ins_count',\n",
    " 'passed_ins_count',\n",
    " '2nd_most_recent_previous_ins',\n",
    " 'passed_ins_ratio',\n",
    " 'failed_ins_ratio',\n",
    " 'Price_1',\n",
    " 'Price_2',\n",
    " 'Price_3',\n",
    " 'Price_4',\n",
    " 'FS',\n",
    " 'FT',\n",
    " 'MFW',\n",
    " 'RF',\n",
    " 'license_issue_since'.**  \n",
    "These features will be engineered as necessary to help arrive at a final model. "
   ]
  },
  {
   "cell_type": "code",
   "execution_count": 58,
   "metadata": {},
   "outputs": [
    {
     "data": {
      "text/plain": [
       "Index(['yelp_id', 'yelp_alias', 'address1', 'url', 'review_count', 'rating',\n",
       "       'price', 'categories', 'businessname', 'issdttm', 'expdttm',\n",
       "       'licstatus', 'licensecat', 'descript', 'address', 'city', 'zip',\n",
       "       'property_id', 'location', 'Latitude', 'Longitude',\n",
       "       'historic_routine_ins_count', 'most_recent_previous_ins',\n",
       "       'failed_ins_count', 'passed_ins_count', '2nd_most_recent_previous_ins',\n",
       "       'passed_ins_ratio', 'failed_ins_ratio', 'target', 'review_count_log',\n",
       "       'Price_1', 'Price_2', 'Price_3', 'Price_4', 'FS', 'FT', 'MFW', 'RF',\n",
       "       'categories_clean', 'license_issue_since', 'license_expiry_left'],\n",
       "      dtype='object')"
      ]
     },
     "execution_count": 58,
     "metadata": {},
     "output_type": "execute_result"
    }
   ],
   "source": [
    "df_eda.columns"
   ]
  },
  {
   "cell_type": "code",
   "execution_count": 63,
   "metadata": {},
   "outputs": [],
   "source": [
    "df_eda.to_csv(\"rest_post_eda.csv\")"
   ]
  }
 ],
 "metadata": {
  "kernelspec": {
   "display_name": "Python 3",
   "language": "python",
   "name": "python3"
  },
  "language_info": {
   "codemirror_mode": {
    "name": "ipython",
    "version": 3
   },
   "file_extension": ".py",
   "mimetype": "text/x-python",
   "name": "python",
   "nbconvert_exporter": "python",
   "pygments_lexer": "ipython3",
   "version": "3.8.5"
  }
 },
 "nbformat": 4,
 "nbformat_minor": 4
}
